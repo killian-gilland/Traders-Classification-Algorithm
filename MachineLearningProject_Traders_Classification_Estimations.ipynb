{
 "cells": [
  {
   "cell_type": "markdown",
   "id": "d5c6f26e",
   "metadata": {},
   "source": [
    "### Random Forest "
   ]
  },
  {
   "cell_type": "code",
   "execution_count": 157,
   "id": "7944c1a0",
   "metadata": {},
   "outputs": [],
   "source": [
    "sc_X = StandardScaler()\n",
    "X_train = sc_X.fit_transform(X_train_pca)\n",
    "X_test = sc_X.transform(X_test_pca)"
   ]
  },
  {
   "cell_type": "code",
   "execution_count": 158,
   "id": "8b0ef287",
   "metadata": {},
   "outputs": [],
   "source": []
  },
  {
   "cell_type": "code",
   "execution_count": 159,
   "id": "f38608d2",
   "metadata": {},
   "outputs": [
    {
     "data": {
      "text/html": [
       "<div>\n",
       "<style scoped>\n",
       "    .dataframe tbody tr th:only-of-type {\n",
       "        vertical-align: middle;\n",
       "    }\n",
       "\n",
       "    .dataframe tbody tr th {\n",
       "        vertical-align: top;\n",
       "    }\n",
       "\n",
       "    .dataframe thead th {\n",
       "        text-align: right;\n",
       "    }\n",
       "</style>\n",
       "<table border=\"1\" class=\"dataframe\">\n",
       "  <thead>\n",
       "    <tr style=\"text-align: right;\">\n",
       "      <th></th>\n",
       "      <th>predicted_NON_HFT</th>\n",
       "      <th>predicted_MIX</th>\n",
       "      <th>predicted_HFT</th>\n",
       "    </tr>\n",
       "  </thead>\n",
       "  <tbody>\n",
       "    <tr>\n",
       "      <th>NON HFT</th>\n",
       "      <td>60</td>\n",
       "      <td>165</td>\n",
       "      <td>10</td>\n",
       "    </tr>\n",
       "    <tr>\n",
       "      <th>MIX</th>\n",
       "      <td>13</td>\n",
       "      <td>1964</td>\n",
       "      <td>34</td>\n",
       "    </tr>\n",
       "    <tr>\n",
       "      <th>HFT</th>\n",
       "      <td>2</td>\n",
       "      <td>229</td>\n",
       "      <td>192</td>\n",
       "    </tr>\n",
       "  </tbody>\n",
       "</table>\n",
       "</div>"
      ],
      "text/plain": [
       "         predicted_NON_HFT  predicted_MIX  predicted_HFT\n",
       "NON HFT                 60            165             10\n",
       "MIX                     13           1964             34\n",
       "HFT                      2            229            192"
      ]
     },
     "execution_count": 159,
     "metadata": {},
     "output_type": "execute_result"
    }
   ],
   "source": [
    "cm = confusion_matrix(y_test_pca, y_pred)\n",
    "conf = pd.DataFrame(cm, index=['NON HFT','MIX', 'HFT'],\n",
    "columns=['predicted_NON_HFT', 'predicted_MIX', 'predicted_HFT'])\n",
    "conf"
   ]
  },
  {
   "cell_type": "code",
   "execution_count": 160,
   "id": "c4e838fd",
   "metadata": {},
   "outputs": [
    {
     "name": "stdout",
     "output_type": "stream",
     "text": [
      "Accuracy Score: 0.8302735106781566\n",
      "              precision    recall  f1-score   support\n",
      "\n",
      "           0       0.80      0.26      0.39       235\n",
      "           1       0.83      0.98      0.90      2011\n",
      "           2       0.81      0.45      0.58       423\n",
      "\n",
      "    accuracy                           0.83      2669\n",
      "   macro avg       0.82      0.56      0.62      2669\n",
      "weighted avg       0.83      0.83      0.80      2669\n",
      "\n"
     ]
    }
   ],
   "source": [
    "print('Accuracy Score:', metrics.accuracy_score(y_test_pca, y_pred))\n",
    "\n",
    "class_report=classification_report(y_test_pca, y_pred)\n",
    "print(class_report)"
   ]
  },
  {
   "cell_type": "markdown",
   "id": "334f66f7",
   "metadata": {},
   "source": [
    "Here the problem of the unbalanced dataset is felt. The MIX class which is majoritary is really often predicted, and so, eventhough the overall accuracy is good, the one for the minoritary classes is not. \n",
    "\n",
    "And we have the proof, when looking at the F1 scores of the NON HFT and HFT classes that those features aren't good (0.39 for NON-HFT and 0.58 for HFT)"
   ]
  },
  {
   "cell_type": "markdown",
   "id": "19fce8fd",
   "metadata": {},
   "source": [
    "##### Re-balancing "
   ]
  },
  {
   "cell_type": "markdown",
   "id": "7bf1a081",
   "metadata": {},
   "source": [
    "Since our dataset after cleaning is quite unbalanced, in order to have a better efficiency of our RandomForest, we need to find solutions to re-balanced it.\n",
    "\n",
    "Since we have a number of observations which is large enough to make fair predictions, what we're gonna do is to procede by under-sampling, meaning that we're gonna reduce the majority class by take a sample of it. The other well-known method is the over sampling of the minority classes, but since we have 2 minorities, and 1 majority, we will have to do the work twice, against one for the under-sampling."
   ]
  },
  {
   "cell_type": "markdown",
   "id": "1f98aa59",
   "metadata": {},
   "source": [
    "Now, what we want to do, is to define a balanced ratio that we want to achieve. Since we want kind of equal representation of the different classes, with almost the same number of observations, we want for the number of MIX trader in the final sample :\n",
    "\n",
    "nb(MIX) = (nb(HFT) + nb(NON-HFT)) / 2"
   ]
  },
  {
   "cell_type": "code",
   "execution_count": 161,
   "id": "1e5cd454",
   "metadata": {},
   "outputs": [
    {
     "data": {
      "text/plain": [
       "1    9974\n",
       "2    2108\n",
       "0    1260\n",
       "Name: target, dtype: int64"
      ]
     },
     "execution_count": 161,
     "metadata": {},
     "output_type": "execute_result"
    }
   ],
   "source": [
    "df_pca['target'].value_counts()"
   ]
  },
  {
   "cell_type": "code",
   "execution_count": 162,
   "id": "d99bfeaa",
   "metadata": {},
   "outputs": [
    {
     "data": {
      "text/plain": [
       "1684.0"
      ]
     },
     "execution_count": 162,
     "metadata": {},
     "output_type": "execute_result"
    }
   ],
   "source": [
    "nb_mix = (df_pca['target'].value_counts()[0] + df_pca['target'].value_counts()[2]) / 2\n",
    "nb_mix"
   ]
  },
  {
   "cell_type": "markdown",
   "id": "5ba3da5d",
   "metadata": {},
   "source": [
    "So we need to select 1684 observations of type MIX to obtain a good balanced dataset.\n",
    "\n",
    "We can select them by many way, like for instance with the K-Nearest Neighboors by selecting MIX traders for who the distance with HFT or NON-HFT is the smallest, but since we already did a lot of data pre-processing, associated with a lot of data cleaning, we already have good enough observations in term of quality, so we can select the subsample of MIX traders randomly."
   ]
  },
  {
   "cell_type": "code",
   "execution_count": 163,
   "id": "7b8c6957",
   "metadata": {},
   "outputs": [],
   "source": [
    "from random import sample\n",
    "\n",
    "part1 = df_pca.loc[df_pca['target'] == 0]\n",
    "part2 = df_pca.loc[df_pca['target'] == 2]\n",
    "part3 = df_pca.loc[df_pca['target'] == 1].sample(n = int(nb_mix))\n",
    "\n",
    "# here we decompose our dataset between the NON-HFT (part1), the HFT (part2), and the subsampling of the MIX (part3)"
   ]
  },
  {
   "cell_type": "code",
   "execution_count": 164,
   "id": "27dc34c8",
   "metadata": {},
   "outputs": [
    {
     "data": {
      "text/html": [
       "<div>\n",
       "<style scoped>\n",
       "    .dataframe tbody tr th:only-of-type {\n",
       "        vertical-align: middle;\n",
       "    }\n",
       "\n",
       "    .dataframe tbody tr th {\n",
       "        vertical-align: top;\n",
       "    }\n",
       "\n",
       "    .dataframe thead th {\n",
       "        text-align: right;\n",
       "    }\n",
       "</style>\n",
       "<table border=\"1\" class=\"dataframe\">\n",
       "  <thead>\n",
       "    <tr style=\"text-align: right;\">\n",
       "      <th></th>\n",
       "      <th>Trader</th>\n",
       "      <th>type</th>\n",
       "      <th>Index</th>\n",
       "      <th>Share</th>\n",
       "      <th>Day</th>\n",
       "      <th>OTR</th>\n",
       "      <th>OCR</th>\n",
       "      <th>OMR</th>\n",
       "      <th>min_time_two_events</th>\n",
       "      <th>mean_time_two_events</th>\n",
       "      <th>10_p_time_two_events</th>\n",
       "      <th>med_time_two_events</th>\n",
       "      <th>25_p_time_two_events</th>\n",
       "      <th>75_p_time_two_events</th>\n",
       "      <th>90_p_time_two_events</th>\n",
       "      <th>max_time_two_events</th>\n",
       "      <th>min_lifetime_cancel</th>\n",
       "      <th>mean_lifetime_cancel</th>\n",
       "      <th>10_p_lifetime_cancel</th>\n",
       "      <th>med_lifetime_cancel</th>\n",
       "      <th>25_p_lifetime_cancel</th>\n",
       "      <th>75_p_lifetime_cancel</th>\n",
       "      <th>90_p_lifetime_cancel</th>\n",
       "      <th>max_lifetime_cancel</th>\n",
       "      <th>NbTradeVenueMic</th>\n",
       "      <th>MaxNbTradesBySecond</th>\n",
       "      <th>MeanNbTradesBySecond</th>\n",
       "      <th>min_dt_TV1</th>\n",
       "      <th>mean_dt_TV1</th>\n",
       "      <th>med_dt_TV1</th>\n",
       "      <th>min_dt_TV1_TV2</th>\n",
       "      <th>mean_dt_TV1_TV2</th>\n",
       "      <th>med_dt_TV1_TV2</th>\n",
       "      <th>min_dt_TV1_TV3</th>\n",
       "      <th>mean_dt_TV1_TV3</th>\n",
       "      <th>med_dt_TV1_TV3</th>\n",
       "      <th>min_dt_TV1_TV4</th>\n",
       "      <th>mean_dt_TV1_TV4</th>\n",
       "      <th>med_dt_TV1_TV4</th>\n",
       "      <th>NbSecondWithAtLeatOneTrade</th>\n",
       "      <th>target</th>\n",
       "      <th>jours</th>\n",
       "    </tr>\n",
       "  </thead>\n",
       "  <tbody>\n",
       "    <tr>\n",
       "      <th>0</th>\n",
       "      <td>Baileywick</td>\n",
       "      <td>HFT</td>\n",
       "      <td>6060</td>\n",
       "      <td>Isin_22</td>\n",
       "      <td>Date_22</td>\n",
       "      <td>6.607930</td>\n",
       "      <td>3.171247</td>\n",
       "      <td>20.547945</td>\n",
       "      <td>0.0</td>\n",
       "      <td>311.483364</td>\n",
       "      <td>0.016123</td>\n",
       "      <td>23.402214</td>\n",
       "      <td>0.961496</td>\n",
       "      <td>117.421350</td>\n",
       "      <td>311.860700</td>\n",
       "      <td>31547.6330</td>\n",
       "      <td>0.000532</td>\n",
       "      <td>179.595677</td>\n",
       "      <td>0.137710</td>\n",
       "      <td>31.217867</td>\n",
       "      <td>3.695120</td>\n",
       "      <td>139.748260</td>\n",
       "      <td>310.130860</td>\n",
       "      <td>30561.93200</td>\n",
       "      <td>13</td>\n",
       "      <td>14</td>\n",
       "      <td>1.615385</td>\n",
       "      <td>0.001000</td>\n",
       "      <td>145.289645</td>\n",
       "      <td>72.044000</td>\n",
       "      <td>0.001000</td>\n",
       "      <td>125.827169</td>\n",
       "      <td>50.175000</td>\n",
       "      <td>0.001000</td>\n",
       "      <td>125.274098</td>\n",
       "      <td>50.175000</td>\n",
       "      <td>0.001000</td>\n",
       "      <td>125.274098</td>\n",
       "      <td>50.175000</td>\n",
       "      <td>221</td>\n",
       "      <td>2</td>\n",
       "      <td>22</td>\n",
       "    </tr>\n",
       "    <tr>\n",
       "      <th>1</th>\n",
       "      <td>Trader_264</td>\n",
       "      <td>MIX</td>\n",
       "      <td>52134</td>\n",
       "      <td>Isin_20</td>\n",
       "      <td>Date_2</td>\n",
       "      <td>10.386749</td>\n",
       "      <td>2.649764</td>\n",
       "      <td>51.853846</td>\n",
       "      <td>0.0</td>\n",
       "      <td>35.712348</td>\n",
       "      <td>0.000906</td>\n",
       "      <td>1.466691</td>\n",
       "      <td>0.099294</td>\n",
       "      <td>8.837297</td>\n",
       "      <td>20.457806</td>\n",
       "      <td>30591.0980</td>\n",
       "      <td>0.000533</td>\n",
       "      <td>28.678789</td>\n",
       "      <td>0.080271</td>\n",
       "      <td>1.928416</td>\n",
       "      <td>0.142875</td>\n",
       "      <td>8.971242</td>\n",
       "      <td>19.387188</td>\n",
       "      <td>30591.09800</td>\n",
       "      <td>17</td>\n",
       "      <td>62</td>\n",
       "      <td>2.462687</td>\n",
       "      <td>0.001000</td>\n",
       "      <td>36.001603</td>\n",
       "      <td>15.631000</td>\n",
       "      <td>0.001000</td>\n",
       "      <td>33.803037</td>\n",
       "      <td>13.990000</td>\n",
       "      <td>0.001000</td>\n",
       "      <td>36.969454</td>\n",
       "      <td>17.655000</td>\n",
       "      <td>0.001000</td>\n",
       "      <td>38.868076</td>\n",
       "      <td>16.242000</td>\n",
       "      <td>670</td>\n",
       "      <td>1</td>\n",
       "      <td>2</td>\n",
       "    </tr>\n",
       "    <tr>\n",
       "      <th>2</th>\n",
       "      <td>Max the Sheepdog</td>\n",
       "      <td>NON HFT</td>\n",
       "      <td>74818</td>\n",
       "      <td>Isin_115</td>\n",
       "      <td>Date_14</td>\n",
       "      <td>3.666667</td>\n",
       "      <td>4.800000</td>\n",
       "      <td>132.000000</td>\n",
       "      <td>0.0</td>\n",
       "      <td>1630.688585</td>\n",
       "      <td>0.000069</td>\n",
       "      <td>25.868065</td>\n",
       "      <td>6.250323</td>\n",
       "      <td>93.974464</td>\n",
       "      <td>591.228330</td>\n",
       "      <td>33597.0080</td>\n",
       "      <td>0.001407</td>\n",
       "      <td>2408.665017</td>\n",
       "      <td>2.298800</td>\n",
       "      <td>31.641052</td>\n",
       "      <td>9.362380</td>\n",
       "      <td>89.605870</td>\n",
       "      <td>307.554630</td>\n",
       "      <td>32341.29900</td>\n",
       "      <td>13</td>\n",
       "      <td>10</td>\n",
       "      <td>1.626087</td>\n",
       "      <td>0.000061</td>\n",
       "      <td>247.169268</td>\n",
       "      <td>137.747221</td>\n",
       "      <td>0.000012</td>\n",
       "      <td>298.123873</td>\n",
       "      <td>174.052660</td>\n",
       "      <td>0.000385</td>\n",
       "      <td>230.803854</td>\n",
       "      <td>174.052660</td>\n",
       "      <td>0.002603</td>\n",
       "      <td>264.552050</td>\n",
       "      <td>174.052660</td>\n",
       "      <td>115</td>\n",
       "      <td>0</td>\n",
       "      <td>14</td>\n",
       "    </tr>\n",
       "    <tr>\n",
       "      <th>3</th>\n",
       "      <td>Trader_161</td>\n",
       "      <td>HFT</td>\n",
       "      <td>16715</td>\n",
       "      <td>Isin_89</td>\n",
       "      <td>Date_12</td>\n",
       "      <td>10.787781</td>\n",
       "      <td>2.779619</td>\n",
       "      <td>30.225225</td>\n",
       "      <td>0.0</td>\n",
       "      <td>740.159824</td>\n",
       "      <td>0.000342</td>\n",
       "      <td>0.525716</td>\n",
       "      <td>0.000570</td>\n",
       "      <td>18.769232</td>\n",
       "      <td>68.305180</td>\n",
       "      <td>37497.0000</td>\n",
       "      <td>0.000334</td>\n",
       "      <td>899.525288</td>\n",
       "      <td>0.000522</td>\n",
       "      <td>2.812208</td>\n",
       "      <td>0.002347</td>\n",
       "      <td>22.500060</td>\n",
       "      <td>70.825930</td>\n",
       "      <td>37204.16000</td>\n",
       "      <td>7</td>\n",
       "      <td>14</td>\n",
       "      <td>2.102804</td>\n",
       "      <td>0.000018</td>\n",
       "      <td>90.245753</td>\n",
       "      <td>9.103535</td>\n",
       "      <td>0.000005</td>\n",
       "      <td>102.497746</td>\n",
       "      <td>1.051601</td>\n",
       "      <td>0.000002</td>\n",
       "      <td>112.643092</td>\n",
       "      <td>0.130612</td>\n",
       "      <td>0.000034</td>\n",
       "      <td>106.779468</td>\n",
       "      <td>0.001687</td>\n",
       "      <td>214</td>\n",
       "      <td>2</td>\n",
       "      <td>12</td>\n",
       "    </tr>\n",
       "    <tr>\n",
       "      <th>4</th>\n",
       "      <td>Evinrude</td>\n",
       "      <td>NON HFT</td>\n",
       "      <td>51081</td>\n",
       "      <td>Isin_17</td>\n",
       "      <td>Date_4</td>\n",
       "      <td>10.944444</td>\n",
       "      <td>2.614218</td>\n",
       "      <td>91.933333</td>\n",
       "      <td>0.0</td>\n",
       "      <td>596.117398</td>\n",
       "      <td>0.000425</td>\n",
       "      <td>1.353013</td>\n",
       "      <td>0.000732</td>\n",
       "      <td>35.828632</td>\n",
       "      <td>139.855990</td>\n",
       "      <td>37499.9960</td>\n",
       "      <td>0.000240</td>\n",
       "      <td>662.075942</td>\n",
       "      <td>0.000514</td>\n",
       "      <td>4.877582</td>\n",
       "      <td>0.002800</td>\n",
       "      <td>44.696440</td>\n",
       "      <td>136.002940</td>\n",
       "      <td>37218.63300</td>\n",
       "      <td>10</td>\n",
       "      <td>16</td>\n",
       "      <td>2.470238</td>\n",
       "      <td>0.000029</td>\n",
       "      <td>109.653643</td>\n",
       "      <td>28.116206</td>\n",
       "      <td>0.000013</td>\n",
       "      <td>119.019496</td>\n",
       "      <td>13.993565</td>\n",
       "      <td>0.000026</td>\n",
       "      <td>132.777531</td>\n",
       "      <td>34.772391</td>\n",
       "      <td>0.000052</td>\n",
       "      <td>138.663200</td>\n",
       "      <td>34.772391</td>\n",
       "      <td>168</td>\n",
       "      <td>0</td>\n",
       "      <td>4</td>\n",
       "    </tr>\n",
       "    <tr>\n",
       "      <th>5</th>\n",
       "      <td>Max the Sheepdog</td>\n",
       "      <td>NON HFT</td>\n",
       "      <td>74687</td>\n",
       "      <td>Isin_71</td>\n",
       "      <td>Date_6</td>\n",
       "      <td>2.934066</td>\n",
       "      <td>5.235294</td>\n",
       "      <td>29.666667</td>\n",
       "      <td>0.0</td>\n",
       "      <td>92.302345</td>\n",
       "      <td>0.000000</td>\n",
       "      <td>0.305123</td>\n",
       "      <td>0.000067</td>\n",
       "      <td>24.898884</td>\n",
       "      <td>138.121120</td>\n",
       "      <td>2924.4866</td>\n",
       "      <td>0.000637</td>\n",
       "      <td>163.694437</td>\n",
       "      <td>0.077175</td>\n",
       "      <td>14.996881</td>\n",
       "      <td>0.550237</td>\n",
       "      <td>55.999386</td>\n",
       "      <td>432.355560</td>\n",
       "      <td>2924.48660</td>\n",
       "      <td>15</td>\n",
       "      <td>30</td>\n",
       "      <td>2.475000</td>\n",
       "      <td>0.000003</td>\n",
       "      <td>21.961148</td>\n",
       "      <td>0.001082</td>\n",
       "      <td>0.000003</td>\n",
       "      <td>29.143052</td>\n",
       "      <td>0.000277</td>\n",
       "      <td>0.000003</td>\n",
       "      <td>181.608554</td>\n",
       "      <td>0.182727</td>\n",
       "      <td>0.000003</td>\n",
       "      <td>85.627246</td>\n",
       "      <td>0.005110</td>\n",
       "      <td>120</td>\n",
       "      <td>0</td>\n",
       "      <td>6</td>\n",
       "    </tr>\n",
       "    <tr>\n",
       "      <th>6</th>\n",
       "      <td>Trader_341</td>\n",
       "      <td>HFT</td>\n",
       "      <td>71231</td>\n",
       "      <td>Isin_102</td>\n",
       "      <td>Date_13</td>\n",
       "      <td>3.530702</td>\n",
       "      <td>4.600000</td>\n",
       "      <td>201.250000</td>\n",
       "      <td>0.0</td>\n",
       "      <td>1380.923437</td>\n",
       "      <td>0.000027</td>\n",
       "      <td>0.001423</td>\n",
       "      <td>0.000285</td>\n",
       "      <td>1.280876</td>\n",
       "      <td>159.071410</td>\n",
       "      <td>37500.0000</td>\n",
       "      <td>0.000057</td>\n",
       "      <td>848.713876</td>\n",
       "      <td>0.000334</td>\n",
       "      <td>0.163001</td>\n",
       "      <td>0.001031</td>\n",
       "      <td>2.305008</td>\n",
       "      <td>87.984210</td>\n",
       "      <td>33728.89000</td>\n",
       "      <td>18</td>\n",
       "      <td>21</td>\n",
       "      <td>2.401460</td>\n",
       "      <td>0.000016</td>\n",
       "      <td>58.558136</td>\n",
       "      <td>0.001969</td>\n",
       "      <td>0.000008</td>\n",
       "      <td>77.629243</td>\n",
       "      <td>0.754660</td>\n",
       "      <td>0.000016</td>\n",
       "      <td>70.424777</td>\n",
       "      <td>0.066419</td>\n",
       "      <td>0.000016</td>\n",
       "      <td>72.357273</td>\n",
       "      <td>0.777619</td>\n",
       "      <td>274</td>\n",
       "      <td>2</td>\n",
       "      <td>13</td>\n",
       "    </tr>\n",
       "    <tr>\n",
       "      <th>7</th>\n",
       "      <td>Duchess</td>\n",
       "      <td>MIX</td>\n",
       "      <td>38410</td>\n",
       "      <td>Isin_112</td>\n",
       "      <td>Date_7</td>\n",
       "      <td>11.832451</td>\n",
       "      <td>7.487723</td>\n",
       "      <td>1.790977</td>\n",
       "      <td>0.0</td>\n",
       "      <td>197.755151</td>\n",
       "      <td>1.082583</td>\n",
       "      <td>20.382631</td>\n",
       "      <td>3.800487</td>\n",
       "      <td>68.603650</td>\n",
       "      <td>198.203450</td>\n",
       "      <td>41591.0200</td>\n",
       "      <td>0.036904</td>\n",
       "      <td>645.231487</td>\n",
       "      <td>1.065116</td>\n",
       "      <td>19.780940</td>\n",
       "      <td>2.939424</td>\n",
       "      <td>102.390230</td>\n",
       "      <td>303.888670</td>\n",
       "      <td>41591.02000</td>\n",
       "      <td>8</td>\n",
       "      <td>46</td>\n",
       "      <td>1.812339</td>\n",
       "      <td>0.000001</td>\n",
       "      <td>63.978396</td>\n",
       "      <td>26.488205</td>\n",
       "      <td>0.000063</td>\n",
       "      <td>48.784797</td>\n",
       "      <td>20.763271</td>\n",
       "      <td>0.000060</td>\n",
       "      <td>51.120685</td>\n",
       "      <td>24.963225</td>\n",
       "      <td>0.000090</td>\n",
       "      <td>53.360210</td>\n",
       "      <td>27.202183</td>\n",
       "      <td>389</td>\n",
       "      <td>1</td>\n",
       "      <td>7</td>\n",
       "    </tr>\n",
       "    <tr>\n",
       "      <th>8</th>\n",
       "      <td>Trader_341</td>\n",
       "      <td>HFT</td>\n",
       "      <td>72110</td>\n",
       "      <td>Isin_70</td>\n",
       "      <td>Date_29</td>\n",
       "      <td>2.431438</td>\n",
       "      <td>7.343434</td>\n",
       "      <td>121.166667</td>\n",
       "      <td>0.0</td>\n",
       "      <td>120.529359</td>\n",
       "      <td>0.000000</td>\n",
       "      <td>5.147243</td>\n",
       "      <td>0.000096</td>\n",
       "      <td>15.022766</td>\n",
       "      <td>30.013315</td>\n",
       "      <td>33713.7000</td>\n",
       "      <td>0.019852</td>\n",
       "      <td>20.886679</td>\n",
       "      <td>5.216871</td>\n",
       "      <td>15.007866</td>\n",
       "      <td>14.799207</td>\n",
       "      <td>29.955864</td>\n",
       "      <td>44.944164</td>\n",
       "      <td>75.00345</td>\n",
       "      <td>8</td>\n",
       "      <td>11</td>\n",
       "      <td>2.333333</td>\n",
       "      <td>0.000015</td>\n",
       "      <td>90.051130</td>\n",
       "      <td>0.298491</td>\n",
       "      <td>0.000003</td>\n",
       "      <td>63.533384</td>\n",
       "      <td>0.002780</td>\n",
       "      <td>0.000008</td>\n",
       "      <td>63.024694</td>\n",
       "      <td>0.002780</td>\n",
       "      <td>0.000010</td>\n",
       "      <td>79.769263</td>\n",
       "      <td>0.139801</td>\n",
       "      <td>204</td>\n",
       "      <td>2</td>\n",
       "      <td>29</td>\n",
       "    </tr>\n",
       "    <tr>\n",
       "      <th>9</th>\n",
       "      <td>Baileywick</td>\n",
       "      <td>HFT</td>\n",
       "      <td>5643</td>\n",
       "      <td>Isin_59</td>\n",
       "      <td>Date_3</td>\n",
       "      <td>10.110390</td>\n",
       "      <td>2.847737</td>\n",
       "      <td>31.296482</td>\n",
       "      <td>0.0</td>\n",
       "      <td>83.613913</td>\n",
       "      <td>0.000905</td>\n",
       "      <td>4.199845</td>\n",
       "      <td>0.109300</td>\n",
       "      <td>20.477343</td>\n",
       "      <td>46.374184</td>\n",
       "      <td>30572.7620</td>\n",
       "      <td>0.000969</td>\n",
       "      <td>117.667490</td>\n",
       "      <td>0.092945</td>\n",
       "      <td>5.578222</td>\n",
       "      <td>0.171136</td>\n",
       "      <td>22.003828</td>\n",
       "      <td>47.122932</td>\n",
       "      <td>30572.76200</td>\n",
       "      <td>16</td>\n",
       "      <td>24</td>\n",
       "      <td>1.854962</td>\n",
       "      <td>0.001000</td>\n",
       "      <td>44.708597</td>\n",
       "      <td>28.248000</td>\n",
       "      <td>0.001000</td>\n",
       "      <td>36.825926</td>\n",
       "      <td>16.729000</td>\n",
       "      <td>0.001000</td>\n",
       "      <td>44.735196</td>\n",
       "      <td>22.052000</td>\n",
       "      <td>0.001000</td>\n",
       "      <td>44.906930</td>\n",
       "      <td>22.996000</td>\n",
       "      <td>786</td>\n",
       "      <td>2</td>\n",
       "      <td>3</td>\n",
       "    </tr>\n",
       "  </tbody>\n",
       "</table>\n",
       "</div>"
      ],
      "text/plain": [
       "             Trader     type  Index     Share      Day        OTR       OCR  \\\n",
       "0        Baileywick      HFT   6060   Isin_22  Date_22   6.607930  3.171247   \n",
       "1        Trader_264      MIX  52134   Isin_20   Date_2  10.386749  2.649764   \n",
       "2  Max the Sheepdog  NON HFT  74818  Isin_115  Date_14   3.666667  4.800000   \n",
       "3        Trader_161      HFT  16715   Isin_89  Date_12  10.787781  2.779619   \n",
       "4          Evinrude  NON HFT  51081   Isin_17   Date_4  10.944444  2.614218   \n",
       "5  Max the Sheepdog  NON HFT  74687   Isin_71   Date_6   2.934066  5.235294   \n",
       "6        Trader_341      HFT  71231  Isin_102  Date_13   3.530702  4.600000   \n",
       "7           Duchess      MIX  38410  Isin_112   Date_7  11.832451  7.487723   \n",
       "8        Trader_341      HFT  72110   Isin_70  Date_29   2.431438  7.343434   \n",
       "9        Baileywick      HFT   5643   Isin_59   Date_3  10.110390  2.847737   \n",
       "\n",
       "          OMR  min_time_two_events  mean_time_two_events  \\\n",
       "0   20.547945                  0.0            311.483364   \n",
       "1   51.853846                  0.0             35.712348   \n",
       "2  132.000000                  0.0           1630.688585   \n",
       "3   30.225225                  0.0            740.159824   \n",
       "4   91.933333                  0.0            596.117398   \n",
       "5   29.666667                  0.0             92.302345   \n",
       "6  201.250000                  0.0           1380.923437   \n",
       "7    1.790977                  0.0            197.755151   \n",
       "8  121.166667                  0.0            120.529359   \n",
       "9   31.296482                  0.0             83.613913   \n",
       "\n",
       "   10_p_time_two_events  med_time_two_events  25_p_time_two_events  \\\n",
       "0              0.016123            23.402214              0.961496   \n",
       "1              0.000906             1.466691              0.099294   \n",
       "2              0.000069            25.868065              6.250323   \n",
       "3              0.000342             0.525716              0.000570   \n",
       "4              0.000425             1.353013              0.000732   \n",
       "5              0.000000             0.305123              0.000067   \n",
       "6              0.000027             0.001423              0.000285   \n",
       "7              1.082583            20.382631              3.800487   \n",
       "8              0.000000             5.147243              0.000096   \n",
       "9              0.000905             4.199845              0.109300   \n",
       "\n",
       "   75_p_time_two_events  90_p_time_two_events  max_time_two_events  \\\n",
       "0            117.421350            311.860700           31547.6330   \n",
       "1              8.837297             20.457806           30591.0980   \n",
       "2             93.974464            591.228330           33597.0080   \n",
       "3             18.769232             68.305180           37497.0000   \n",
       "4             35.828632            139.855990           37499.9960   \n",
       "5             24.898884            138.121120            2924.4866   \n",
       "6              1.280876            159.071410           37500.0000   \n",
       "7             68.603650            198.203450           41591.0200   \n",
       "8             15.022766             30.013315           33713.7000   \n",
       "9             20.477343             46.374184           30572.7620   \n",
       "\n",
       "   min_lifetime_cancel  mean_lifetime_cancel  10_p_lifetime_cancel  \\\n",
       "0             0.000532            179.595677              0.137710   \n",
       "1             0.000533             28.678789              0.080271   \n",
       "2             0.001407           2408.665017              2.298800   \n",
       "3             0.000334            899.525288              0.000522   \n",
       "4             0.000240            662.075942              0.000514   \n",
       "5             0.000637            163.694437              0.077175   \n",
       "6             0.000057            848.713876              0.000334   \n",
       "7             0.036904            645.231487              1.065116   \n",
       "8             0.019852             20.886679              5.216871   \n",
       "9             0.000969            117.667490              0.092945   \n",
       "\n",
       "   med_lifetime_cancel  25_p_lifetime_cancel  75_p_lifetime_cancel  \\\n",
       "0            31.217867              3.695120            139.748260   \n",
       "1             1.928416              0.142875              8.971242   \n",
       "2            31.641052              9.362380             89.605870   \n",
       "3             2.812208              0.002347             22.500060   \n",
       "4             4.877582              0.002800             44.696440   \n",
       "5            14.996881              0.550237             55.999386   \n",
       "6             0.163001              0.001031              2.305008   \n",
       "7            19.780940              2.939424            102.390230   \n",
       "8            15.007866             14.799207             29.955864   \n",
       "9             5.578222              0.171136             22.003828   \n",
       "\n",
       "   90_p_lifetime_cancel  max_lifetime_cancel  NbTradeVenueMic  \\\n",
       "0            310.130860          30561.93200               13   \n",
       "1             19.387188          30591.09800               17   \n",
       "2            307.554630          32341.29900               13   \n",
       "3             70.825930          37204.16000                7   \n",
       "4            136.002940          37218.63300               10   \n",
       "5            432.355560           2924.48660               15   \n",
       "6             87.984210          33728.89000               18   \n",
       "7            303.888670          41591.02000                8   \n",
       "8             44.944164             75.00345                8   \n",
       "9             47.122932          30572.76200               16   \n",
       "\n",
       "   MaxNbTradesBySecond  MeanNbTradesBySecond  min_dt_TV1  mean_dt_TV1  \\\n",
       "0                   14              1.615385    0.001000   145.289645   \n",
       "1                   62              2.462687    0.001000    36.001603   \n",
       "2                   10              1.626087    0.000061   247.169268   \n",
       "3                   14              2.102804    0.000018    90.245753   \n",
       "4                   16              2.470238    0.000029   109.653643   \n",
       "5                   30              2.475000    0.000003    21.961148   \n",
       "6                   21              2.401460    0.000016    58.558136   \n",
       "7                   46              1.812339    0.000001    63.978396   \n",
       "8                   11              2.333333    0.000015    90.051130   \n",
       "9                   24              1.854962    0.001000    44.708597   \n",
       "\n",
       "   med_dt_TV1  min_dt_TV1_TV2  mean_dt_TV1_TV2  med_dt_TV1_TV2  \\\n",
       "0   72.044000        0.001000       125.827169       50.175000   \n",
       "1   15.631000        0.001000        33.803037       13.990000   \n",
       "2  137.747221        0.000012       298.123873      174.052660   \n",
       "3    9.103535        0.000005       102.497746        1.051601   \n",
       "4   28.116206        0.000013       119.019496       13.993565   \n",
       "5    0.001082        0.000003        29.143052        0.000277   \n",
       "6    0.001969        0.000008        77.629243        0.754660   \n",
       "7   26.488205        0.000063        48.784797       20.763271   \n",
       "8    0.298491        0.000003        63.533384        0.002780   \n",
       "9   28.248000        0.001000        36.825926       16.729000   \n",
       "\n",
       "   min_dt_TV1_TV3  mean_dt_TV1_TV3  med_dt_TV1_TV3  min_dt_TV1_TV4  \\\n",
       "0        0.001000       125.274098       50.175000        0.001000   \n",
       "1        0.001000        36.969454       17.655000        0.001000   \n",
       "2        0.000385       230.803854      174.052660        0.002603   \n",
       "3        0.000002       112.643092        0.130612        0.000034   \n",
       "4        0.000026       132.777531       34.772391        0.000052   \n",
       "5        0.000003       181.608554        0.182727        0.000003   \n",
       "6        0.000016        70.424777        0.066419        0.000016   \n",
       "7        0.000060        51.120685       24.963225        0.000090   \n",
       "8        0.000008        63.024694        0.002780        0.000010   \n",
       "9        0.001000        44.735196       22.052000        0.001000   \n",
       "\n",
       "   mean_dt_TV1_TV4  med_dt_TV1_TV4  NbSecondWithAtLeatOneTrade  target  jours  \n",
       "0       125.274098       50.175000                         221       2     22  \n",
       "1        38.868076       16.242000                         670       1      2  \n",
       "2       264.552050      174.052660                         115       0     14  \n",
       "3       106.779468        0.001687                         214       2     12  \n",
       "4       138.663200       34.772391                         168       0      4  \n",
       "5        85.627246        0.005110                         120       0      6  \n",
       "6        72.357273        0.777619                         274       2     13  \n",
       "7        53.360210       27.202183                         389       1      7  \n",
       "8        79.769263        0.139801                         204       2     29  \n",
       "9        44.906930       22.996000                         786       2      3  "
      ]
     },
     "execution_count": 164,
     "metadata": {},
     "output_type": "execute_result"
    }
   ],
   "source": [
    "df_pca_sample = pd.concat([part1, part2, part3])\n",
    "df_pca_sample = df_features_sample.sample(frac=1).reset_index(drop=True) # we shuffle the dataset\n",
    "df_pca_sample.head(10)"
   ]
  },
  {
   "cell_type": "markdown",
   "id": "4a619800",
   "metadata": {},
   "source": [
    "So now, we need to redo the PCA reduction of dimensionality on this balanced sample, and then evaluate our models with the corresponding data."
   ]
  },
  {
   "cell_type": "code",
   "execution_count": 169,
   "id": "ebac2bfe",
   "metadata": {},
   "outputs": [],
   "source": [
    "from sklearn.model_selection import train_test_split\n",
    "X_train_pca, X_test_pca, y_train_pca, y_test_pca = train_test_split(df_pca_sample.drop(['target', 'Trader', 'type', 'Share', 'Day'], axis = 1), df_pca_sample['target'], test_size = 0.2)"
   ]
  },
  {
   "cell_type": "code",
   "execution_count": 170,
   "id": "f4404a71",
   "metadata": {},
   "outputs": [
    {
     "name": "stdout",
     "output_type": "stream",
     "text": [
      "[6.36664168e-01 3.07501831e-01 5.44962370e-02 1.03692492e-03\n",
      " 1.21708319e-04 7.74119830e-05 4.79292507e-05 2.53235011e-05\n",
      " 1.16021893e-05 7.38997838e-06 2.59721293e-06 2.02649465e-06\n",
      " 1.57684296e-06 1.10507429e-06 6.99414306e-07 5.14200738e-07\n",
      " 2.57553331e-07 2.09984212e-07]\n"
     ]
    }
   ],
   "source": [
    "pca = PCA(n_components = 18)\n",
    "X_train_pca = pca.fit_transform(X_train_pca)\n",
    "X_test_pca = pca.transform(X_test_pca)\n",
    "explained_variance = pca.explained_variance_ratio_\n",
    "print(explained_variance)"
   ]
  },
  {
   "cell_type": "markdown",
   "id": "132ca117",
   "metadata": {},
   "source": [
    "Let's perform the Random Forest with those Data."
   ]
  },
  {
   "cell_type": "code",
   "execution_count": 215,
   "id": "e0bddd9c",
   "metadata": {},
   "outputs": [],
   "source": [
    "sc_X = StandardScaler()\n",
    "X_train = sc_X.fit_transform(X_train_pca)\n",
    "X_test = sc_X.transform(X_test_pca)"
   ]
  },
  {
   "cell_type": "code",
   "execution_count": 216,
   "id": "a639a594",
   "metadata": {},
   "outputs": [],
   "source": [
    "classifier = RandomForestClassifier(n_estimators = 200, criterion = 'entropy', random_state = 0)\n",
    "classifier.fit(X_train,y_train_pca)\n",
    "\n",
    "y_pred = classifier.predict(X_test)"
   ]
  },
  {
   "cell_type": "code",
   "execution_count": 217,
   "id": "5d483f7a",
   "metadata": {},
   "outputs": [
    {
     "data": {
      "text/html": [
       "<div>\n",
       "<style scoped>\n",
       "    .dataframe tbody tr th:only-of-type {\n",
       "        vertical-align: middle;\n",
       "    }\n",
       "\n",
       "    .dataframe tbody tr th {\n",
       "        vertical-align: top;\n",
       "    }\n",
       "\n",
       "    .dataframe thead th {\n",
       "        text-align: right;\n",
       "    }\n",
       "</style>\n",
       "<table border=\"1\" class=\"dataframe\">\n",
       "  <thead>\n",
       "    <tr style=\"text-align: right;\">\n",
       "      <th></th>\n",
       "      <th>predicted_NON_HFT</th>\n",
       "      <th>predicted_MIX</th>\n",
       "      <th>predicted_HFT</th>\n",
       "    </tr>\n",
       "  </thead>\n",
       "  <tbody>\n",
       "    <tr>\n",
       "      <th>NON HFT</th>\n",
       "      <td>250</td>\n",
       "      <td>17</td>\n",
       "      <td>4</td>\n",
       "    </tr>\n",
       "    <tr>\n",
       "      <th>MIX</th>\n",
       "      <td>16</td>\n",
       "      <td>301</td>\n",
       "      <td>13</td>\n",
       "    </tr>\n",
       "    <tr>\n",
       "      <th>HFT</th>\n",
       "      <td>1</td>\n",
       "      <td>5</td>\n",
       "      <td>404</td>\n",
       "    </tr>\n",
       "  </tbody>\n",
       "</table>\n",
       "</div>"
      ],
      "text/plain": [
       "         predicted_NON_HFT  predicted_MIX  predicted_HFT\n",
       "NON HFT                250             17              4\n",
       "MIX                     16            301             13\n",
       "HFT                      1              5            404"
      ]
     },
     "execution_count": 217,
     "metadata": {},
     "output_type": "execute_result"
    }
   ],
   "source": [
    "cm = confusion_matrix(y_test_pca, y_pred)\n",
    "conf = pd.DataFrame(cm, index=['NON HFT','MIX', 'HFT'],\n",
    "columns=['predicted_NON_HFT', 'predicted_MIX', 'predicted_HFT'])\n",
    "conf"
   ]
  },
  {
   "cell_type": "code",
   "execution_count": 174,
   "id": "2a37285f",
   "metadata": {},
   "outputs": [
    {
     "name": "stdout",
     "output_type": "stream",
     "text": [
      "Accuracy Score: 0.9446092977250248\n",
      "              precision    recall  f1-score   support\n",
      "\n",
      "           0       0.94      0.92      0.93       271\n",
      "           1       0.93      0.91      0.92       330\n",
      "           2       0.96      0.99      0.97       410\n",
      "\n",
      "    accuracy                           0.94      1011\n",
      "   macro avg       0.94      0.94      0.94      1011\n",
      "weighted avg       0.94      0.94      0.94      1011\n",
      "\n"
     ]
    }
   ],
   "source": [
    "print('Accuracy Score:', metrics.accuracy_score(y_test_pca, y_pred))\n",
    "\n",
    "class_report=classification_report(y_test_pca, y_pred)\n",
    "print(class_report)\n",
    "\n",
    "# much better"
   ]
  },
  {
   "cell_type": "markdown",
   "id": "962e5e2e",
   "metadata": {},
   "source": [
    "##### ROC Curve "
   ]
  },
  {
   "cell_type": "markdown",
   "id": "fccfbc17",
   "metadata": {},
   "source": [
    "Now we are going to plot the ROC Curve for NON HFT and HFT in a on VS all analysis. The ROC curve is the relation between the true positive rate and the false positive rate, the perfect model is the one with 100% of true positive and 0% of false positive. It allows us to evaluate the performance of the model for different classification threeshold."
   ]
  },
  {
   "cell_type": "code",
   "execution_count": 200,
   "id": "73876185",
   "metadata": {},
   "outputs": [
    {
     "data": {
      "text/plain": [
       "(1011, 3)"
      ]
     },
     "execution_count": 200,
     "metadata": {},
     "output_type": "execute_result"
    }
   ],
   "source": [
    "from sklearn.preprocessing import LabelBinarizer\n",
    "\n",
    "label_binarizer = LabelBinarizer().fit(y_train_pca)\n",
    "y_onehot_test = label_binarizer.transform(y_test_pca)\n",
    "y_onehot_pred = label_binarizer.transform(y_pred)\n",
    "y_onehot_test.shape  \n",
    "\n",
    "# we create an encoder for each observation of our test set (like a dummy variable for each possible target) and we do the\n",
    "# same thing for our predictions"
   ]
  },
  {
   "cell_type": "code",
   "execution_count": 201,
   "id": "abf32582",
   "metadata": {},
   "outputs": [
    {
     "data": {
      "text/plain": [
       "array([[0, 0, 1]])"
      ]
     },
     "execution_count": 201,
     "metadata": {},
     "output_type": "execute_result"
    }
   ],
   "source": [
    "label_binarizer.transform([2]) # here is an example with the target = 2 (so the HFT class) of the encoder "
   ]
  },
  {
   "cell_type": "code",
   "execution_count": 202,
   "id": "c3b3cc70",
   "metadata": {},
   "outputs": [
    {
     "data": {
      "image/png": "[encoded data removed]",
      "text/plain": [
       "<Figure size 640x480 with 1 Axes>"
      ]
     },
     "metadata": {},
     "output_type": "display_data"
    }
   ],
   "source": [
    "import matplotlib.pyplot as plt\n",
    "from sklearn.metrics import RocCurveDisplay\n",
    "\n",
    "RocCurveDisplay.from_predictions(\n",
    "    y_onehot_test[:, 2],\n",
    "    y_onehot_pred[:, 2],\n",
    "    name=\"HFT vs the rest\",\n",
    "    color=\"darkorange\",\n",
    ")\n",
    "plt.plot([0, 1], [0, 1], \"k--\", label=\"chance level (AUC = 0.5)\")\n",
    "plt.axis(\"square\")\n",
    "plt.xlabel(\"False Positive Rate\")\n",
    "plt.ylabel(\"True Positive Rate\")\n",
    "plt.title(\"One-vs-Rest ROC curves:\\nHFT vs (NON-HFT & MIX)\")\n",
    "plt.legend()\n",
    "plt.show()"
   ]
  },
  {
   "cell_type": "code",
   "execution_count": 203,
   "id": "19a153bc",
   "metadata": {},
   "outputs": [
    {
     "data": {
      "image/png": "[encoded data removed]",
      "text/plain": [
       "<Figure size 640x480 with 1 Axes>"
      ]
     },
     "metadata": {},
     "output_type": "display_data"
    }
   ],
   "source": [
    "RocCurveDisplay.from_predictions(\n",
    "    y_onehot_test[:, 0],\n",
    "    y_onehot_pred[:, 0],\n",
    "    name=\"NON-HFT vs the rest\",\n",
    "    color=\"darkorange\",\n",
    ")\n",
    "plt.plot([0, 1], [0, 1], \"k--\", label=\"chance level (AUC = 0.5)\")\n",
    "plt.axis(\"square\")\n",
    "plt.xlabel(\"False Positive Rate\")\n",
    "plt.ylabel(\"True Positive Rate\")\n",
    "plt.title(\"One-vs-Rest ROC curves:\\nNON-HFT vs (HFT & MIX)\")\n",
    "plt.legend()\n",
    "plt.show()"
   ]
  },
  {
   "cell_type": "markdown",
   "id": "56349e9a",
   "metadata": {},
   "source": [
    "##### Hyperparameters "
   ]
  },
  {
   "cell_type": "code",
   "execution_count": 213,
   "id": "e283c7d8",
   "metadata": {},
   "outputs": [],
   "source": [
    "criterion = ['gini', 'entropy']\n",
    "n_estimators = []\n",
    "min_samples_leaf = []\n",
    "\n",
    "i = 50\n",
    "j = 50\n",
    "\n",
    "while i < 200:\n",
    "    n_estimators.append(i)\n",
    "    i += 10\n",
    "    \n",
    "while j < 200:\n",
    "    min_samples_leaf.append(j)\n",
    "    j += 10"
   ]
  },
  {
   "cell_type": "code",
   "execution_count": 214,
   "id": "ffda7a8a",
   "metadata": {},
   "outputs": [],
   "source": [
    "estimator = RandomForestClassifier()\n",
    "\n",
    "param_grid = { \n",
    "        \"criterion\" : criterion,\n",
    "        \"n_estimators\" : n_estimators,\n",
    "        \"min_samples_leaf\" : min_samples_leaf\n",
    "        }"
   ]
  },
  {
   "cell_type": "code",
   "execution_count": 190,
   "id": "534a3754",
   "metadata": {},
   "outputs": [
    {
     "data": {
      "text/html": [
       "<div>\n",
       "<style scoped>\n",
       "    .dataframe tbody tr th:only-of-type {\n",
       "        vertical-align: middle;\n",
       "    }\n",
       "\n",
       "    .dataframe tbody tr th {\n",
       "        vertical-align: top;\n",
       "    }\n",
       "\n",
       "    .dataframe thead th {\n",
       "        text-align: right;\n",
       "    }\n",
       "</style>\n",
       "<table border=\"1\" class=\"dataframe\">\n",
       "  <thead>\n",
       "    <tr style=\"text-align: right;\">\n",
       "      <th></th>\n",
       "      <th>Index</th>\n",
       "      <th>OTR</th>\n",
       "      <th>OCR</th>\n",
       "      <th>OMR</th>\n",
       "      <th>min_time_two_events</th>\n",
       "      <th>mean_time_two_events</th>\n",
       "      <th>10_p_time_two_events</th>\n",
       "      <th>med_time_two_events</th>\n",
       "      <th>25_p_time_two_events</th>\n",
       "      <th>75_p_time_two_events</th>\n",
       "      <th>90_p_time_two_events</th>\n",
       "      <th>max_time_two_events</th>\n",
       "      <th>min_lifetime_cancel</th>\n",
       "      <th>mean_lifetime_cancel</th>\n",
       "      <th>10_p_lifetime_cancel</th>\n",
       "      <th>med_lifetime_cancel</th>\n",
       "      <th>25_p_lifetime_cancel</th>\n",
       "      <th>75_p_lifetime_cancel</th>\n",
       "      <th>90_p_lifetime_cancel</th>\n",
       "      <th>max_lifetime_cancel</th>\n",
       "      <th>NbTradeVenueMic</th>\n",
       "      <th>MaxNbTradesBySecond</th>\n",
       "      <th>MeanNbTradesBySecond</th>\n",
       "      <th>min_dt_TV1</th>\n",
       "      <th>mean_dt_TV1</th>\n",
       "      <th>med_dt_TV1</th>\n",
       "      <th>min_dt_TV1_TV2</th>\n",
       "      <th>mean_dt_TV1_TV2</th>\n",
       "      <th>med_dt_TV1_TV2</th>\n",
       "      <th>min_dt_TV1_TV3</th>\n",
       "      <th>mean_dt_TV1_TV3</th>\n",
       "      <th>med_dt_TV1_TV3</th>\n",
       "      <th>min_dt_TV1_TV4</th>\n",
       "      <th>mean_dt_TV1_TV4</th>\n",
       "      <th>med_dt_TV1_TV4</th>\n",
       "      <th>NbSecondWithAtLeatOneTrade</th>\n",
       "      <th>jours</th>\n",
       "    </tr>\n",
       "  </thead>\n",
       "  <tbody>\n",
       "    <tr>\n",
       "      <th>3154</th>\n",
       "      <td>31972</td>\n",
       "      <td>13.769470</td>\n",
       "      <td>4.237776</td>\n",
       "      <td>2.858991</td>\n",
       "      <td>0.0</td>\n",
       "      <td>240.033933</td>\n",
       "      <td>1.013297</td>\n",
       "      <td>24.212710</td>\n",
       "      <td>3.723059</td>\n",
       "      <td>102.805520</td>\n",
       "      <td>334.745200</td>\n",
       "      <td>35498.766</td>\n",
       "      <td>0.097610</td>\n",
       "      <td>476.648856</td>\n",
       "      <td>1.060913</td>\n",
       "      <td>21.935898</td>\n",
       "      <td>5.278212</td>\n",
       "      <td>75.886130</td>\n",
       "      <td>240.008090</td>\n",
       "      <td>35498.7660</td>\n",
       "      <td>7</td>\n",
       "      <td>24</td>\n",
       "      <td>1.653430</td>\n",
       "      <td>0.000001</td>\n",
       "      <td>104.932844</td>\n",
       "      <td>31.154292</td>\n",
       "      <td>0.000040</td>\n",
       "      <td>66.980668</td>\n",
       "      <td>26.116026</td>\n",
       "      <td>0.000040</td>\n",
       "      <td>60.407012</td>\n",
       "      <td>18.827629</td>\n",
       "      <td>0.000020</td>\n",
       "      <td>58.837756</td>\n",
       "      <td>16.831347</td>\n",
       "      <td>277</td>\n",
       "      <td>13</td>\n",
       "    </tr>\n",
       "    <tr>\n",
       "      <th>464</th>\n",
       "      <td>76166</td>\n",
       "      <td>4.858824</td>\n",
       "      <td>4.802326</td>\n",
       "      <td>15.296296</td>\n",
       "      <td>0.0</td>\n",
       "      <td>1030.638185</td>\n",
       "      <td>0.000004</td>\n",
       "      <td>0.399087</td>\n",
       "      <td>0.000008</td>\n",
       "      <td>5.350222</td>\n",
       "      <td>46.707195</td>\n",
       "      <td>33599.418</td>\n",
       "      <td>0.000706</td>\n",
       "      <td>1452.568309</td>\n",
       "      <td>0.033693</td>\n",
       "      <td>2.250074</td>\n",
       "      <td>0.300008</td>\n",
       "      <td>8.256986</td>\n",
       "      <td>61.998863</td>\n",
       "      <td>32342.6000</td>\n",
       "      <td>17</td>\n",
       "      <td>13</td>\n",
       "      <td>2.641975</td>\n",
       "      <td>0.000008</td>\n",
       "      <td>692.363627</td>\n",
       "      <td>59.678909</td>\n",
       "      <td>0.000008</td>\n",
       "      <td>551.129917</td>\n",
       "      <td>3.809007</td>\n",
       "      <td>0.000004</td>\n",
       "      <td>488.420238</td>\n",
       "      <td>0.103236</td>\n",
       "      <td>0.000008</td>\n",
       "      <td>556.795925</td>\n",
       "      <td>3.048867</td>\n",
       "      <td>81</td>\n",
       "      <td>1</td>\n",
       "    </tr>\n",
       "    <tr>\n",
       "      <th>4471</th>\n",
       "      <td>32996</td>\n",
       "      <td>6.196737</td>\n",
       "      <td>4.195582</td>\n",
       "      <td>4.383571</td>\n",
       "      <td>0.0</td>\n",
       "      <td>430.238211</td>\n",
       "      <td>0.000000</td>\n",
       "      <td>11.867826</td>\n",
       "      <td>2.022938</td>\n",
       "      <td>59.438732</td>\n",
       "      <td>199.183170</td>\n",
       "      <td>50529.883</td>\n",
       "      <td>0.129256</td>\n",
       "      <td>537.610949</td>\n",
       "      <td>1.355406</td>\n",
       "      <td>22.174140</td>\n",
       "      <td>5.907379</td>\n",
       "      <td>70.447235</td>\n",
       "      <td>173.824230</td>\n",
       "      <td>50529.8830</td>\n",
       "      <td>9</td>\n",
       "      <td>80</td>\n",
       "      <td>1.956446</td>\n",
       "      <td>0.000001</td>\n",
       "      <td>38.932008</td>\n",
       "      <td>3.037073</td>\n",
       "      <td>0.000060</td>\n",
       "      <td>100.942207</td>\n",
       "      <td>51.404492</td>\n",
       "      <td>0.000060</td>\n",
       "      <td>103.919123</td>\n",
       "      <td>38.357679</td>\n",
       "      <td>0.000060</td>\n",
       "      <td>107.133502</td>\n",
       "      <td>38.357679</td>\n",
       "      <td>574</td>\n",
       "      <td>15</td>\n",
       "    </tr>\n",
       "    <tr>\n",
       "      <th>1080</th>\n",
       "      <td>7503</td>\n",
       "      <td>6.391753</td>\n",
       "      <td>3.229167</td>\n",
       "      <td>25.833333</td>\n",
       "      <td>0.0</td>\n",
       "      <td>174.498563</td>\n",
       "      <td>0.000055</td>\n",
       "      <td>20.629911</td>\n",
       "      <td>0.231079</td>\n",
       "      <td>133.671590</td>\n",
       "      <td>381.023930</td>\n",
       "      <td>13677.651</td>\n",
       "      <td>0.000990</td>\n",
       "      <td>168.175945</td>\n",
       "      <td>0.086238</td>\n",
       "      <td>19.160543</td>\n",
       "      <td>0.379657</td>\n",
       "      <td>190.771820</td>\n",
       "      <td>525.483340</td>\n",
       "      <td>2410.0876</td>\n",
       "      <td>15</td>\n",
       "      <td>17</td>\n",
       "      <td>1.402235</td>\n",
       "      <td>0.001000</td>\n",
       "      <td>310.842925</td>\n",
       "      <td>132.471000</td>\n",
       "      <td>0.001000</td>\n",
       "      <td>238.974864</td>\n",
       "      <td>86.496000</td>\n",
       "      <td>0.001000</td>\n",
       "      <td>264.583200</td>\n",
       "      <td>115.418000</td>\n",
       "      <td>0.001000</td>\n",
       "      <td>268.123947</td>\n",
       "      <td>115.418000</td>\n",
       "      <td>179</td>\n",
       "      <td>10</td>\n",
       "    </tr>\n",
       "    <tr>\n",
       "      <th>4084</th>\n",
       "      <td>22926</td>\n",
       "      <td>2.739130</td>\n",
       "      <td>9.450000</td>\n",
       "      <td>23.625000</td>\n",
       "      <td>0.0</td>\n",
       "      <td>163.014164</td>\n",
       "      <td>0.000004</td>\n",
       "      <td>22.917566</td>\n",
       "      <td>0.001089</td>\n",
       "      <td>265.139500</td>\n",
       "      <td>506.030900</td>\n",
       "      <td>2546.386</td>\n",
       "      <td>0.245356</td>\n",
       "      <td>333.955893</td>\n",
       "      <td>0.394285</td>\n",
       "      <td>29.999868</td>\n",
       "      <td>3.931554</td>\n",
       "      <td>138.406310</td>\n",
       "      <td>1135.419000</td>\n",
       "      <td>2546.3860</td>\n",
       "      <td>8</td>\n",
       "      <td>21</td>\n",
       "      <td>1.721239</td>\n",
       "      <td>0.000093</td>\n",
       "      <td>137.858043</td>\n",
       "      <td>89.561770</td>\n",
       "      <td>0.000009</td>\n",
       "      <td>135.215173</td>\n",
       "      <td>89.561770</td>\n",
       "      <td>0.000002</td>\n",
       "      <td>113.049078</td>\n",
       "      <td>70.518627</td>\n",
       "      <td>0.000013</td>\n",
       "      <td>106.606917</td>\n",
       "      <td>38.221484</td>\n",
       "      <td>226</td>\n",
       "      <td>12</td>\n",
       "    </tr>\n",
       "  </tbody>\n",
       "</table>\n",
       "</div>"
      ],
      "text/plain": [
       "      Index        OTR       OCR        OMR  min_time_two_events  \\\n",
       "3154  31972  13.769470  4.237776   2.858991                  0.0   \n",
       "464   76166   4.858824  4.802326  15.296296                  0.0   \n",
       "4471  32996   6.196737  4.195582   4.383571                  0.0   \n",
       "1080   7503   6.391753  3.229167  25.833333                  0.0   \n",
       "4084  22926   2.739130  9.450000  23.625000                  0.0   \n",
       "\n",
       "      mean_time_two_events  10_p_time_two_events  med_time_two_events  \\\n",
       "3154            240.033933              1.013297            24.212710   \n",
       "464            1030.638185              0.000004             0.399087   \n",
       "4471            430.238211              0.000000            11.867826   \n",
       "1080            174.498563              0.000055            20.629911   \n",
       "4084            163.014164              0.000004            22.917566   \n",
       "\n",
       "      25_p_time_two_events  75_p_time_two_events  90_p_time_two_events  \\\n",
       "3154              3.723059            102.805520            334.745200   \n",
       "464               0.000008              5.350222             46.707195   \n",
       "4471              2.022938             59.438732            199.183170   \n",
       "1080              0.231079            133.671590            381.023930   \n",
       "4084              0.001089            265.139500            506.030900   \n",
       "\n",
       "      max_time_two_events  min_lifetime_cancel  mean_lifetime_cancel  \\\n",
       "3154            35498.766             0.097610            476.648856   \n",
       "464             33599.418             0.000706           1452.568309   \n",
       "4471            50529.883             0.129256            537.610949   \n",
       "1080            13677.651             0.000990            168.175945   \n",
       "4084             2546.386             0.245356            333.955893   \n",
       "\n",
       "      10_p_lifetime_cancel  med_lifetime_cancel  25_p_lifetime_cancel  \\\n",
       "3154              1.060913            21.935898              5.278212   \n",
       "464               0.033693             2.250074              0.300008   \n",
       "4471              1.355406            22.174140              5.907379   \n",
       "1080              0.086238            19.160543              0.379657   \n",
       "4084              0.394285            29.999868              3.931554   \n",
       "\n",
       "      75_p_lifetime_cancel  90_p_lifetime_cancel  max_lifetime_cancel  \\\n",
       "3154             75.886130            240.008090           35498.7660   \n",
       "464               8.256986             61.998863           32342.6000   \n",
       "4471             70.447235            173.824230           50529.8830   \n",
       "1080            190.771820            525.483340            2410.0876   \n",
       "4084            138.406310           1135.419000            2546.3860   \n",
       "\n",
       "      NbTradeVenueMic  MaxNbTradesBySecond  MeanNbTradesBySecond  min_dt_TV1  \\\n",
       "3154                7                   24              1.653430    0.000001   \n",
       "464                17                   13              2.641975    0.000008   \n",
       "4471                9                   80              1.956446    0.000001   \n",
       "1080               15                   17              1.402235    0.001000   \n",
       "4084                8                   21              1.721239    0.000093   \n",
       "\n",
       "      mean_dt_TV1  med_dt_TV1  min_dt_TV1_TV2  mean_dt_TV1_TV2  \\\n",
       "3154   104.932844   31.154292        0.000040        66.980668   \n",
       "464    692.363627   59.678909        0.000008       551.129917   \n",
       "4471    38.932008    3.037073        0.000060       100.942207   \n",
       "1080   310.842925  132.471000        0.001000       238.974864   \n",
       "4084   137.858043   89.561770        0.000009       135.215173   \n",
       "\n",
       "      med_dt_TV1_TV2  min_dt_TV1_TV3  mean_dt_TV1_TV3  med_dt_TV1_TV3  \\\n",
       "3154       26.116026        0.000040        60.407012       18.827629   \n",
       "464         3.809007        0.000004       488.420238        0.103236   \n",
       "4471       51.404492        0.000060       103.919123       38.357679   \n",
       "1080       86.496000        0.001000       264.583200      115.418000   \n",
       "4084       89.561770        0.000002       113.049078       70.518627   \n",
       "\n",
       "      min_dt_TV1_TV4  mean_dt_TV1_TV4  med_dt_TV1_TV4  \\\n",
       "3154        0.000020        58.837756       16.831347   \n",
       "464         0.000008       556.795925        3.048867   \n",
       "4471        0.000060       107.133502       38.357679   \n",
       "1080        0.001000       268.123947      115.418000   \n",
       "4084        0.000013       106.606917       38.221484   \n",
       "\n",
       "      NbSecondWithAtLeatOneTrade  jours  \n",
       "3154                         277     13  \n",
       "464                           81      1  \n",
       "4471                         574     15  \n",
       "1080                         179     10  \n",
       "4084                         226     12  "
      ]
     },
     "execution_count": 190,
     "metadata": {},
     "output_type": "execute_result"
    }
   ],
   "source": [
    "X_train.head()"
   ]
  },
  {
   "cell_type": "code",
   "execution_count": 221,
   "id": "32ba5ae0",
   "metadata": {},
   "outputs": [
    {
     "data": {
      "text/plain": [
       "GridSearchCV(cv=2, estimator=RandomForestClassifier(),\n",
       "             param_grid={'criterion': ['gini', 'entropy'],\n",
       "                         'min_samples_leaf': [50, 60, 70, 80, 90, 100, 110, 120,\n",
       "                                              130, 140, 150, 160, 170, 180,\n",
       "                                              190],\n",
       "                         'n_estimators': [50, 60, 70, 80, 90, 100, 110, 120,\n",
       "                                          130, 140, 150, 160, 170, 180, 190]})"
      ]
     },
     "execution_count": 221,
     "metadata": {},
     "output_type": "execute_result"
    }
   ],
   "source": [
    "from sklearn.model_selection import GridSearchCV\n",
    "\n",
    "CV_rfc = GridSearchCV(estimator=estimator, param_grid=param_grid, cv= 2)\n",
    "CV_rfc.fit(X_train, y_train)"
   ]
  },
  {
   "cell_type": "code",
   "execution_count": 223,
   "id": "4b2f2b04",
   "metadata": {},
   "outputs": [
    {
     "data": {
      "text/plain": [
       "{'criterion': 'entropy', 'min_samples_leaf': 70, 'n_estimators': 60}"
      ]
     },
     "execution_count": 223,
     "metadata": {},
     "output_type": "execute_result"
    }
   ],
   "source": [
    "CV_rfc.best_params_"
   ]
  },
  {
   "cell_type": "markdown",
   "id": "afb56df9",
   "metadata": {},
   "source": [
    "##### Best Random Forest "
   ]
  },
  {
   "cell_type": "code",
   "execution_count": 228,
   "id": "ee11475d",
   "metadata": {},
   "outputs": [],
   "source": [
    "sc_X = StandardScaler()\n",
    "X_train = sc_X.fit_transform(X_train_pca)\n",
    "X_test = sc_X.transform(X_test_pca)"
   ]
  },
  {
   "cell_type": "code",
   "execution_count": 231,
   "id": "be80e51d",
   "metadata": {},
   "outputs": [],
   "source": [
    "classifier = RandomForestClassifier(n_estimators = 60, criterion = 'entropy', min_samples_leaf = 70, random_state = 0)\n",
    "classifier.fit(X_train,y_train_pca)\n",
    "\n",
    "y_pred = classifier.predict(X_test)"
   ]
  },
  {
   "cell_type": "code",
   "execution_count": 232,
   "id": "8c41d4e9",
   "metadata": {},
   "outputs": [
    {
     "data": {
      "text/html": [
       "<div>\n",
       "<style scoped>\n",
       "    .dataframe tbody tr th:only-of-type {\n",
       "        vertical-align: middle;\n",
       "    }\n",
       "\n",
       "    .dataframe tbody tr th {\n",
       "        vertical-align: top;\n",
       "    }\n",
       "\n",
       "    .dataframe thead th {\n",
       "        text-align: right;\n",
       "    }\n",
       "</style>\n",
       "<table border=\"1\" class=\"dataframe\">\n",
       "  <thead>\n",
       "    <tr style=\"text-align: right;\">\n",
       "      <th></th>\n",
       "      <th>predicted_NON_HFT</th>\n",
       "      <th>predicted_MIX</th>\n",
       "      <th>predicted_HFT</th>\n",
       "    </tr>\n",
       "  </thead>\n",
       "  <tbody>\n",
       "    <tr>\n",
       "      <th>NON HFT</th>\n",
       "      <td>192</td>\n",
       "      <td>45</td>\n",
       "      <td>34</td>\n",
       "    </tr>\n",
       "    <tr>\n",
       "      <th>MIX</th>\n",
       "      <td>45</td>\n",
       "      <td>256</td>\n",
       "      <td>29</td>\n",
       "    </tr>\n",
       "    <tr>\n",
       "      <th>HFT</th>\n",
       "      <td>11</td>\n",
       "      <td>14</td>\n",
       "      <td>385</td>\n",
       "    </tr>\n",
       "  </tbody>\n",
       "</table>\n",
       "</div>"
      ],
      "text/plain": [
       "         predicted_NON_HFT  predicted_MIX  predicted_HFT\n",
       "NON HFT                192             45             34\n",
       "MIX                     45            256             29\n",
       "HFT                     11             14            385"
      ]
     },
     "execution_count": 232,
     "metadata": {},
     "output_type": "execute_result"
    }
   ],
   "source": [
    "cm = confusion_matrix(y_test_pca, y_pred)\n",
    "conf = pd.DataFrame(cm, index=['NON HFT','MIX', 'HFT'],\n",
    "columns=['predicted_NON_HFT', 'predicted_MIX', 'predicted_HFT'])\n",
    "conf"
   ]
  },
  {
   "cell_type": "code",
   "execution_count": 233,
   "id": "5572d672",
   "metadata": {},
   "outputs": [
    {
     "name": "stdout",
     "output_type": "stream",
     "text": [
      "Accuracy Score: 0.8239366963402571\n",
      "              precision    recall  f1-score   support\n",
      "\n",
      "           0       0.77      0.71      0.74       271\n",
      "           1       0.81      0.78      0.79       330\n",
      "           2       0.86      0.94      0.90       410\n",
      "\n",
      "    accuracy                           0.82      1011\n",
      "   macro avg       0.82      0.81      0.81      1011\n",
      "weighted avg       0.82      0.82      0.82      1011\n",
      "\n"
     ]
    }
   ],
   "source": [
    "print('Accuracy Score:', metrics.accuracy_score(y_test_pca, y_pred))\n",
    "\n",
    "class_report=classification_report(y_test_pca, y_pred)\n",
    "print(class_report)"
   ]
  },
  {
   "cell_type": "markdown",
   "id": "536d13c5",
   "metadata": {},
   "source": [
    "Our best random forest has lower accuracy than the non-optimized one, meaning that previously, we had overfitting, which is now resolved thanks to the K-cross validation.\n",
    "\n",
    "In addition of this, we see that it performs better on HFT than on the others (see F1 score)."
   ]
  },
  {
   "cell_type": "code",
   "execution_count": 234,
   "id": "8c0f7b27",
   "metadata": {},
   "outputs": [
    {
     "data": {
      "text/plain": [
       "(1011, 3)"
      ]
     },
     "execution_count": 234,
     "metadata": {},
     "output_type": "execute_result"
    }
   ],
   "source": [
    "label_binarizer = LabelBinarizer().fit(y_train_pca)\n",
    "y_onehot_test = label_binarizer.transform(y_test_pca)\n",
    "y_onehot_pred = label_binarizer.transform(y_pred)\n",
    "y_onehot_test.shape  "
   ]
  },
  {
   "cell_type": "code",
   "execution_count": 235,
   "id": "fecb9117",
   "metadata": {},
   "outputs": [
    {
     "data": {
      "text/plain": [
       "array([[0, 0, 1]])"
      ]
     },
     "execution_count": 235,
     "metadata": {},
     "output_type": "execute_result"
    }
   ],
   "source": [
    "label_binarizer.transform([2])"
   ]
  },
  {
   "cell_type": "code",
   "execution_count": 236,
   "id": "50185190",
   "metadata": {},
   "outputs": [
    {
     "data": {
      "image/png": "[encoded data removed]",
      "text/plain": [
       "<Figure size 640x480 with 1 Axes>"
      ]
     },
     "metadata": {},
     "output_type": "display_data"
    }
   ],
   "source": [
    "RocCurveDisplay.from_predictions(\n",
    "    y_onehot_test[:, 2],\n",
    "    y_onehot_pred[:, 2],\n",
    "    name=\"HFT vs the rest\",\n",
    "    color=\"darkorange\",\n",
    ")\n",
    "plt.plot([0, 1], [0, 1], \"k--\", label=\"chance level (AUC = 0.5)\")\n",
    "plt.axis(\"square\")\n",
    "plt.xlabel(\"False Positive Rate\")\n",
    "plt.ylabel(\"True Positive Rate\")\n",
    "plt.title(\"One-vs-Rest ROC curves:\\nHFT vs (NON-HFT & MIX)\")\n",
    "plt.legend()\n",
    "plt.show()"
   ]
  },
  {
   "cell_type": "code",
   "execution_count": 237,
   "id": "dc782414",
   "metadata": {},
   "outputs": [
    {
     "data": {
      "image/png": "[encoded data removed]",
      "text/plain": [
       "<Figure size 640x480 with 1 Axes>"
      ]
     },
     "metadata": {},
     "output_type": "display_data"
    }
   ],
   "source": [
    "RocCurveDisplay.from_predictions(\n",
    "    y_onehot_test[:, 0],\n",
    "    y_onehot_pred[:, 0],\n",
    "    name=\"NON-HFT vs the rest\",\n",
    "    color=\"darkorange\",\n",
    ")\n",
    "plt.plot([0, 1], [0, 1], \"k--\", label=\"chance level (AUC = 0.5)\")\n",
    "plt.axis(\"square\")\n",
    "plt.xlabel(\"False Positive Rate\")\n",
    "plt.ylabel(\"True Positive Rate\")\n",
    "plt.title(\"One-vs-Rest ROC curves:\\nNON-HFT vs (HFT & MIX)\")\n",
    "plt.legend()\n",
    "plt.show()"
   ]
  },
  {
   "cell_type": "code",
   "execution_count": null,
   "id": "b56f5d21",
   "metadata": {},
   "outputs": [],
   "source": []
  },
  {
   "cell_type": "markdown",
   "id": "a2747eb1",
   "metadata": {},
   "source": [
    "### Boosting "
   ]
  },
  {
   "cell_type": "code",
   "execution_count": 177,
   "id": "5e88e2d8",
   "metadata": {},
   "outputs": [],
   "source": [
    "from xgboost import XGBClassifier"
   ]
  },
  {
   "cell_type": "code",
   "execution_count": 225,
   "id": "ce46898f",
   "metadata": {},
   "outputs": [],
   "source": [
    "classifier = XGBClassifier(n_estimators = 200, random_state = 0)\n",
    "classifier.fit(X_train,y_train_pca)\n",
    "\n",
    "y_pred = classifier.predict(X_test)"
   ]
  },
  {
   "cell_type": "code",
   "execution_count": 180,
   "id": "5d75a4ac",
   "metadata": {},
   "outputs": [
    {
     "data": {
      "text/html": [
       "<div>\n",
       "<style scoped>\n",
       "    .dataframe tbody tr th:only-of-type {\n",
       "        vertical-align: middle;\n",
       "    }\n",
       "\n",
       "    .dataframe tbody tr th {\n",
       "        vertical-align: top;\n",
       "    }\n",
       "\n",
       "    .dataframe thead th {\n",
       "        text-align: right;\n",
       "    }\n",
       "</style>\n",
       "<table border=\"1\" class=\"dataframe\">\n",
       "  <thead>\n",
       "    <tr style=\"text-align: right;\">\n",
       "      <th></th>\n",
       "      <th>predicted_NON_HFT</th>\n",
       "      <th>predicted_MIX</th>\n",
       "      <th>predicted_HFT</th>\n",
       "    </tr>\n",
       "  </thead>\n",
       "  <tbody>\n",
       "    <tr>\n",
       "      <th>NON HFT</th>\n",
       "      <td>260</td>\n",
       "      <td>8</td>\n",
       "      <td>3</td>\n",
       "    </tr>\n",
       "    <tr>\n",
       "      <th>MIX</th>\n",
       "      <td>10</td>\n",
       "      <td>314</td>\n",
       "      <td>6</td>\n",
       "    </tr>\n",
       "    <tr>\n",
       "      <th>HFT</th>\n",
       "      <td>1</td>\n",
       "      <td>3</td>\n",
       "      <td>406</td>\n",
       "    </tr>\n",
       "  </tbody>\n",
       "</table>\n",
       "</div>"
      ],
      "text/plain": [
       "         predicted_NON_HFT  predicted_MIX  predicted_HFT\n",
       "NON HFT                260              8              3\n",
       "MIX                     10            314              6\n",
       "HFT                      1              3            406"
      ]
     },
     "execution_count": 180,
     "metadata": {},
     "output_type": "execute_result"
    }
   ],
   "source": [
    "cm = confusion_matrix(y_test_pca, y_pred)\n",
    "conf = pd.DataFrame(cm, index=['NON HFT','MIX', 'HFT'],\n",
    "columns=['predicted_NON_HFT', 'predicted_MIX', 'predicted_HFT'])\n",
    "conf"
   ]
  },
  {
   "cell_type": "code",
   "execution_count": 181,
   "id": "0d9cb477",
   "metadata": {},
   "outputs": [
    {
     "name": "stdout",
     "output_type": "stream",
     "text": [
      "Accuracy Score: 0.9693372898120672\n",
      "              precision    recall  f1-score   support\n",
      "\n",
      "           0       0.96      0.96      0.96       271\n",
      "           1       0.97      0.95      0.96       330\n",
      "           2       0.98      0.99      0.98       410\n",
      "\n",
      "    accuracy                           0.97      1011\n",
      "   macro avg       0.97      0.97      0.97      1011\n",
      "weighted avg       0.97      0.97      0.97      1011\n",
      "\n"
     ]
    }
   ],
   "source": [
    "print('Accuracy Score:', metrics.accuracy_score(y_test_pca, y_pred))\n",
    "\n",
    "class_report=classification_report(y_test_pca, y_pred)\n",
    "print(class_report)\n",
    "\n",
    "# even a little better"
   ]
  },
  {
   "cell_type": "code",
   "execution_count": 207,
   "id": "5dd21ed7",
   "metadata": {},
   "outputs": [
    {
     "data": {
      "text/plain": [
       "(1011, 3)"
      ]
     },
     "execution_count": 207,
     "metadata": {},
     "output_type": "execute_result"
    }
   ],
   "source": [
    "label_binarizer = LabelBinarizer().fit(y_train_pca)\n",
    "y_onehot_test = label_binarizer.transform(y_test_pca)\n",
    "y_onehot_pred = label_binarizer.transform(y_pred)\n",
    "y_onehot_test.shape  \n",
    "\n",
    "# we create an encoder for each observation of our test set (like a dummy variable for each possible target) and we do the\n",
    "# same thing for our predictions"
   ]
  },
  {
   "cell_type": "code",
   "execution_count": 208,
   "id": "15f2e196",
   "metadata": {},
   "outputs": [
    {
     "data": {
      "text/plain": [
       "array([[0, 0, 1]])"
      ]
     },
     "execution_count": 208,
     "metadata": {},
     "output_type": "execute_result"
    }
   ],
   "source": [
    "label_binarizer.transform([2])"
   ]
  },
  {
   "cell_type": "code",
   "execution_count": 209,
   "id": "b2e8c21f",
   "metadata": {},
   "outputs": [
    {
     "data": {
      "image/png": "[encoded data removed]",
      "text/plain": [
       "<Figure size 640x480 with 1 Axes>"
      ]
     },
     "metadata": {},
     "output_type": "display_data"
    }
   ],
   "source": [
    "import matplotlib.pyplot as plt\n",
    "from sklearn.metrics import RocCurveDisplay\n",
    "\n",
    "RocCurveDisplay.from_predictions(\n",
    "    y_onehot_test[:, 2],\n",
    "    y_onehot_pred[:, 2],\n",
    "    name=\"HFT vs the rest\",\n",
    "    color=\"darkorange\",\n",
    ")\n",
    "plt.plot([0, 1], [0, 1], \"k--\", label=\"chance level (AUC = 0.5)\")\n",
    "plt.axis(\"square\")\n",
    "plt.xlabel(\"False Positive Rate\")\n",
    "plt.ylabel(\"True Positive Rate\")\n",
    "plt.title(\"One-vs-Rest ROC curves:\\nHFT vs (NON-HFT & MIX)\")\n",
    "plt.legend()\n",
    "plt.show()"
   ]
  },
  {
   "cell_type": "code",
   "execution_count": 210,
   "id": "536e3ab1",
   "metadata": {},
   "outputs": [
    {
     "data": {
      "image/png": "[encoded data removed]",
      "text/plain": [
       "<Figure size 640x480 with 1 Axes>"
      ]
     },
     "metadata": {},
     "output_type": "display_data"
    }
   ],
   "source": [
    "RocCurveDisplay.from_predictions(\n",
    "    y_onehot_test[:, 0],\n",
    "    y_onehot_pred[:, 0],\n",
    "    name=\"NON-HFT vs the rest\",\n",
    "    color=\"darkorange\",\n",
    ")\n",
    "plt.plot([0, 1], [0, 1], \"k--\", label=\"chance level (AUC = 0.5)\")\n",
    "plt.axis(\"square\")\n",
    "plt.xlabel(\"False Positive Rate\")\n",
    "plt.ylabel(\"True Positive Rate\")\n",
    "plt.title(\"One-vs-Rest ROC curves:\\nNON-HFT vs (HFT & MIX)\")\n",
    "plt.legend()\n",
    "plt.show()"
   ]
  },
  {
   "cell_type": "markdown",
   "id": "82016dc7",
   "metadata": {},
   "source": [
    "##### Hyperparameters"
   ]
  },
  {
   "cell_type": "code",
   "execution_count": 224,
   "id": "300ee955",
   "metadata": {},
   "outputs": [],
   "source": [
    "params = {\n",
    "    'n_estimators': [100, 200, 500],\n",
    "    'learning_rate': [0.01,0.05,0.1],\n",
    "    'booster': ['gbtree', 'gblinear'],\n",
    "    'gamma': [0, 0.5, 1],\n",
    "}\n",
    "\n"
   ]
  },
  {
   "cell_type": "code",
   "execution_count": null,
   "id": "a7ed3fc5",
   "metadata": {},
   "outputs": [],
   "source": []
  },
  {
   "cell_type": "code",
   "execution_count": 227,
   "id": "a6ebce86",
   "metadata": {},
   "outputs": [
    {
     "ename": "KeyboardInterrupt",
     "evalue": "",
     "output_type": "error",
     "traceback": [
      "\u001b[1;31m---------------------------------------------------------------------------\u001b[0m",
      "\u001b[1;31mKeyboardInterrupt\u001b[0m                         Traceback (most recent call last)",
      "\u001b[1;32m~\\AppData\\Local\\Temp\\ipykernel_740\\2518730185.py\u001b[0m in \u001b[0;36m<module>\u001b[1;34m\u001b[0m\n\u001b[0;32m      1\u001b[0m \u001b[0mgs2\u001b[0m \u001b[1;33m=\u001b[0m \u001b[0mGridSearchCV\u001b[0m\u001b[1;33m(\u001b[0m\u001b[0mXGBClassifier\u001b[0m\u001b[1;33m(\u001b[0m\u001b[0mn_jobs\u001b[0m\u001b[1;33m=\u001b[0m\u001b[1;33m-\u001b[0m\u001b[1;36m1\u001b[0m\u001b[1;33m)\u001b[0m\u001b[1;33m,\u001b[0m \u001b[0mparams\u001b[0m\u001b[1;33m,\u001b[0m \u001b[0mn_jobs\u001b[0m\u001b[1;33m=\u001b[0m\u001b[1;33m-\u001b[0m\u001b[1;36m1\u001b[0m\u001b[1;33m,\u001b[0m \u001b[0mcv\u001b[0m\u001b[1;33m=\u001b[0m\u001b[0mKFold\u001b[0m\u001b[1;33m(\u001b[0m\u001b[0mn_splits\u001b[0m\u001b[1;33m=\u001b[0m\u001b[1;36m3\u001b[0m\u001b[1;33m)\u001b[0m\u001b[1;33m,\u001b[0m \u001b[0mscoring\u001b[0m\u001b[1;33m=\u001b[0m\u001b[1;34m'roc_auc'\u001b[0m\u001b[1;33m)\u001b[0m\u001b[1;33m\u001b[0m\u001b[1;33m\u001b[0m\u001b[0m\n\u001b[1;32m----> 2\u001b[1;33m \u001b[0mgs2\u001b[0m\u001b[1;33m.\u001b[0m\u001b[0mfit\u001b[0m\u001b[1;33m(\u001b[0m\u001b[0mX_train\u001b[0m\u001b[1;33m,\u001b[0m \u001b[0my_train_pca\u001b[0m\u001b[1;33m)\u001b[0m\u001b[1;33m\u001b[0m\u001b[1;33m\u001b[0m\u001b[0m\n\u001b[0m\u001b[0;32m      3\u001b[0m \u001b[1;33m\u001b[0m\u001b[0m\n\u001b[0;32m      4\u001b[0m \u001b[0mprint\u001b[0m\u001b[1;33m(\u001b[0m\u001b[1;34m'Best score:'\u001b[0m\u001b[1;33m,\u001b[0m \u001b[0mgs2\u001b[0m\u001b[1;33m.\u001b[0m\u001b[0mbest_score_\u001b[0m\u001b[1;33m)\u001b[0m\u001b[1;33m\u001b[0m\u001b[1;33m\u001b[0m\u001b[0m\n\u001b[0;32m      5\u001b[0m \u001b[0mprint\u001b[0m\u001b[1;33m(\u001b[0m\u001b[1;34m'Best score:'\u001b[0m\u001b[1;33m,\u001b[0m \u001b[0mgs2\u001b[0m\u001b[1;33m.\u001b[0m\u001b[0mbest_params_\u001b[0m\u001b[1;33m)\u001b[0m\u001b[1;33m\u001b[0m\u001b[1;33m\u001b[0m\u001b[0m\n",
      "\u001b[1;32m~\\anaconda3\\lib\\site-packages\\sklearn\\model_selection\\_search.py\u001b[0m in \u001b[0;36mfit\u001b[1;34m(self, X, y, groups, **fit_params)\u001b[0m\n\u001b[0;32m    889\u001b[0m                 \u001b[1;32mreturn\u001b[0m \u001b[0mresults\u001b[0m\u001b[1;33m\u001b[0m\u001b[1;33m\u001b[0m\u001b[0m\n\u001b[0;32m    890\u001b[0m \u001b[1;33m\u001b[0m\u001b[0m\n\u001b[1;32m--> 891\u001b[1;33m             \u001b[0mself\u001b[0m\u001b[1;33m.\u001b[0m\u001b[0m_run_search\u001b[0m\u001b[1;33m(\u001b[0m\u001b[0mevaluate_candidates\u001b[0m\u001b[1;33m)\u001b[0m\u001b[1;33m\u001b[0m\u001b[1;33m\u001b[0m\u001b[0m\n\u001b[0m\u001b[0;32m    892\u001b[0m \u001b[1;33m\u001b[0m\u001b[0m\n\u001b[0;32m    893\u001b[0m             \u001b[1;31m# multimetric is determined here because in the case of a callable\u001b[0m\u001b[1;33m\u001b[0m\u001b[1;33m\u001b[0m\u001b[0m\n",
      "\u001b[1;32m~\\anaconda3\\lib\\site-packages\\sklearn\\model_selection\\_search.py\u001b[0m in \u001b[0;36m_run_search\u001b[1;34m(self, evaluate_candidates)\u001b[0m\n\u001b[0;32m   1390\u001b[0m     \u001b[1;32mdef\u001b[0m \u001b[0m_run_search\u001b[0m\u001b[1;33m(\u001b[0m\u001b[0mself\u001b[0m\u001b[1;33m,\u001b[0m \u001b[0mevaluate_candidates\u001b[0m\u001b[1;33m)\u001b[0m\u001b[1;33m:\u001b[0m\u001b[1;33m\u001b[0m\u001b[1;33m\u001b[0m\u001b[0m\n\u001b[0;32m   1391\u001b[0m         \u001b[1;34m\"\"\"Search all candidates in param_grid\"\"\"\u001b[0m\u001b[1;33m\u001b[0m\u001b[1;33m\u001b[0m\u001b[0m\n\u001b[1;32m-> 1392\u001b[1;33m         \u001b[0mevaluate_candidates\u001b[0m\u001b[1;33m(\u001b[0m\u001b[0mParameterGrid\u001b[0m\u001b[1;33m(\u001b[0m\u001b[0mself\u001b[0m\u001b[1;33m.\u001b[0m\u001b[0mparam_grid\u001b[0m\u001b[1;33m)\u001b[0m\u001b[1;33m)\u001b[0m\u001b[1;33m\u001b[0m\u001b[1;33m\u001b[0m\u001b[0m\n\u001b[0m\u001b[0;32m   1393\u001b[0m \u001b[1;33m\u001b[0m\u001b[0m\n\u001b[0;32m   1394\u001b[0m \u001b[1;33m\u001b[0m\u001b[0m\n",
      "\u001b[1;32m~\\anaconda3\\lib\\site-packages\\sklearn\\model_selection\\_search.py\u001b[0m in \u001b[0;36mevaluate_candidates\u001b[1;34m(candidate_params, cv, more_results)\u001b[0m\n\u001b[0;32m    836\u001b[0m                     )\n\u001b[0;32m    837\u001b[0m \u001b[1;33m\u001b[0m\u001b[0m\n\u001b[1;32m--> 838\u001b[1;33m                 out = parallel(\n\u001b[0m\u001b[0;32m    839\u001b[0m                     delayed(_fit_and_score)(\n\u001b[0;32m    840\u001b[0m                         \u001b[0mclone\u001b[0m\u001b[1;33m(\u001b[0m\u001b[0mbase_estimator\u001b[0m\u001b[1;33m)\u001b[0m\u001b[1;33m,\u001b[0m\u001b[1;33m\u001b[0m\u001b[1;33m\u001b[0m\u001b[0m\n",
      "\u001b[1;32m~\\anaconda3\\lib\\site-packages\\joblib\\parallel.py\u001b[0m in \u001b[0;36m__call__\u001b[1;34m(self, iterable)\u001b[0m\n\u001b[0;32m   1054\u001b[0m             \u001b[1;32mif\u001b[0m \u001b[0mhasattr\u001b[0m\u001b[1;33m(\u001b[0m\u001b[0mpre_dispatch\u001b[0m\u001b[1;33m,\u001b[0m \u001b[1;34m'endswith'\u001b[0m\u001b[1;33m)\u001b[0m\u001b[1;33m:\u001b[0m\u001b[1;33m\u001b[0m\u001b[1;33m\u001b[0m\u001b[0m\n\u001b[0;32m   1055\u001b[0m                 pre_dispatch = eval_expr(\n\u001b[1;32m-> 1056\u001b[1;33m                     \u001b[0mpre_dispatch\u001b[0m\u001b[1;33m.\u001b[0m\u001b[0mreplace\u001b[0m\u001b[1;33m(\u001b[0m\u001b[1;34m\"n_jobs\"\u001b[0m\u001b[1;33m,\u001b[0m \u001b[0mstr\u001b[0m\u001b[1;33m(\u001b[0m\u001b[0mn_jobs\u001b[0m\u001b[1;33m)\u001b[0m\u001b[1;33m)\u001b[0m\u001b[1;33m\u001b[0m\u001b[1;33m\u001b[0m\u001b[0m\n\u001b[0m\u001b[0;32m   1057\u001b[0m                 )\n\u001b[0;32m   1058\u001b[0m             \u001b[0mself\u001b[0m\u001b[1;33m.\u001b[0m\u001b[0m_pre_dispatch_amount\u001b[0m \u001b[1;33m=\u001b[0m \u001b[0mpre_dispatch\u001b[0m \u001b[1;33m=\u001b[0m \u001b[0mint\u001b[0m\u001b[1;33m(\u001b[0m\u001b[0mpre_dispatch\u001b[0m\u001b[1;33m)\u001b[0m\u001b[1;33m\u001b[0m\u001b[1;33m\u001b[0m\u001b[0m\n",
      "\u001b[1;32m~\\anaconda3\\lib\\site-packages\\joblib\\parallel.py\u001b[0m in \u001b[0;36mretrieve\u001b[1;34m(self)\u001b[0m\n\u001b[0;32m    933\u001b[0m             self._print('Done %3i tasks      | elapsed: %s',\n\u001b[0;32m    934\u001b[0m                         (self.n_completed_tasks,\n\u001b[1;32m--> 935\u001b[1;33m                          short_format_time(elapsed_time), ))\n\u001b[0m\u001b[0;32m    936\u001b[0m         \u001b[1;32melse\u001b[0m\u001b[1;33m:\u001b[0m\u001b[1;33m\u001b[0m\u001b[1;33m\u001b[0m\u001b[0m\n\u001b[0;32m    937\u001b[0m             \u001b[0mindex\u001b[0m \u001b[1;33m=\u001b[0m \u001b[0mself\u001b[0m\u001b[1;33m.\u001b[0m\u001b[0mn_completed_tasks\u001b[0m\u001b[1;33m\u001b[0m\u001b[1;33m\u001b[0m\u001b[0m\n",
      "\u001b[1;32m~\\anaconda3\\lib\\site-packages\\joblib\\_parallel_backends.py\u001b[0m in \u001b[0;36mwrap_future_result\u001b[1;34m(future, timeout)\u001b[0m\n\u001b[0;32m    540\u001b[0m \u001b[1;33m\u001b[0m\u001b[0m\n\u001b[0;32m    541\u001b[0m             \u001b[1;32mreturn\u001b[0m \u001b[1;36m1\u001b[0m\u001b[1;33m\u001b[0m\u001b[1;33m\u001b[0m\u001b[0m\n\u001b[1;32m--> 542\u001b[1;33m         \u001b[1;32melif\u001b[0m \u001b[1;32mnot\u001b[0m \u001b[1;33m(\u001b[0m\u001b[0mself\u001b[0m\u001b[1;33m.\u001b[0m\u001b[0min_main_thread\u001b[0m\u001b[1;33m(\u001b[0m\u001b[1;33m)\u001b[0m \u001b[1;32mor\u001b[0m \u001b[0mself\u001b[0m\u001b[1;33m.\u001b[0m\u001b[0mnesting_level\u001b[0m \u001b[1;33m==\u001b[0m \u001b[1;36m0\u001b[0m\u001b[1;33m)\u001b[0m\u001b[1;33m:\u001b[0m\u001b[1;33m\u001b[0m\u001b[1;33m\u001b[0m\u001b[0m\n\u001b[0m\u001b[0;32m    543\u001b[0m             \u001b[1;31m# Prevent posix fork inside in non-main posix threads\u001b[0m\u001b[1;33m\u001b[0m\u001b[1;33m\u001b[0m\u001b[0m\n\u001b[0;32m    544\u001b[0m             \u001b[1;32mif\u001b[0m \u001b[0mn_jobs\u001b[0m \u001b[1;33m!=\u001b[0m \u001b[1;36m1\u001b[0m\u001b[1;33m:\u001b[0m\u001b[1;33m\u001b[0m\u001b[1;33m\u001b[0m\u001b[0m\n",
      "\u001b[1;32m~\\anaconda3\\lib\\concurrent\\futures\\_base.py\u001b[0m in \u001b[0;36mresult\u001b[1;34m(self, timeout)\u001b[0m\n\u001b[0;32m    439\u001b[0m                     \u001b[1;32mreturn\u001b[0m \u001b[0mself\u001b[0m\u001b[1;33m.\u001b[0m\u001b[0m__get_result\u001b[0m\u001b[1;33m(\u001b[0m\u001b[1;33m)\u001b[0m\u001b[1;33m\u001b[0m\u001b[1;33m\u001b[0m\u001b[0m\n\u001b[0;32m    440\u001b[0m \u001b[1;33m\u001b[0m\u001b[0m\n\u001b[1;32m--> 441\u001b[1;33m                 \u001b[0mself\u001b[0m\u001b[1;33m.\u001b[0m\u001b[0m_condition\u001b[0m\u001b[1;33m.\u001b[0m\u001b[0mwait\u001b[0m\u001b[1;33m(\u001b[0m\u001b[0mtimeout\u001b[0m\u001b[1;33m)\u001b[0m\u001b[1;33m\u001b[0m\u001b[1;33m\u001b[0m\u001b[0m\n\u001b[0m\u001b[0;32m    442\u001b[0m \u001b[1;33m\u001b[0m\u001b[0m\n\u001b[0;32m    443\u001b[0m                 \u001b[1;32mif\u001b[0m \u001b[0mself\u001b[0m\u001b[1;33m.\u001b[0m\u001b[0m_state\u001b[0m \u001b[1;32min\u001b[0m \u001b[1;33m[\u001b[0m\u001b[0mCANCELLED\u001b[0m\u001b[1;33m,\u001b[0m \u001b[0mCANCELLED_AND_NOTIFIED\u001b[0m\u001b[1;33m]\u001b[0m\u001b[1;33m:\u001b[0m\u001b[1;33m\u001b[0m\u001b[1;33m\u001b[0m\u001b[0m\n",
      "\u001b[1;32m~\\anaconda3\\lib\\threading.py\u001b[0m in \u001b[0;36mwait\u001b[1;34m(self, timeout)\u001b[0m\n\u001b[0;32m    310\u001b[0m         \u001b[1;32mtry\u001b[0m\u001b[1;33m:\u001b[0m    \u001b[1;31m# restore state no matter what (e.g., KeyboardInterrupt)\u001b[0m\u001b[1;33m\u001b[0m\u001b[1;33m\u001b[0m\u001b[0m\n\u001b[0;32m    311\u001b[0m             \u001b[1;32mif\u001b[0m \u001b[0mtimeout\u001b[0m \u001b[1;32mis\u001b[0m \u001b[1;32mNone\u001b[0m\u001b[1;33m:\u001b[0m\u001b[1;33m\u001b[0m\u001b[1;33m\u001b[0m\u001b[0m\n\u001b[1;32m--> 312\u001b[1;33m                 \u001b[0mwaiter\u001b[0m\u001b[1;33m.\u001b[0m\u001b[0macquire\u001b[0m\u001b[1;33m(\u001b[0m\u001b[1;33m)\u001b[0m\u001b[1;33m\u001b[0m\u001b[1;33m\u001b[0m\u001b[0m\n\u001b[0m\u001b[0;32m    313\u001b[0m                 \u001b[0mgotit\u001b[0m \u001b[1;33m=\u001b[0m \u001b[1;32mTrue\u001b[0m\u001b[1;33m\u001b[0m\u001b[1;33m\u001b[0m\u001b[0m\n\u001b[0;32m    314\u001b[0m             \u001b[1;32melse\u001b[0m\u001b[1;33m:\u001b[0m\u001b[1;33m\u001b[0m\u001b[1;33m\u001b[0m\u001b[0m\n",
      "\u001b[1;31mKeyboardInterrupt\u001b[0m: "
     ]
    }
   ],
   "source": [
    "gs2 = GridSearchCV(XGBClassifier(n_jobs=-1), params, n_jobs=-1, cv=KFold(n_splits=3), scoring='roc_auc')\n",
    "gs2.fit(X_train, y_train_pca)\n",
    "\n",
    "print('Best score:', gs2.best_score_)\n",
    "print('Best score:', gs2.best_params_)"
   ]
  },
  {
   "cell_type": "markdown",
   "id": "b5c86ee4",
   "metadata": {},
   "source": [
    "### Multinomial Regression"
   ]
  },
  {
   "cell_type": "code",
   "execution_count": 182,
   "id": "976ee807",
   "metadata": {},
   "outputs": [],
   "source": [
    "from numpy import mean\n",
    "from numpy import std\n",
    "from sklearn.model_selection import cross_val_score\n",
    "from sklearn.model_selection import RepeatedStratifiedKFold\n",
    "from sklearn.linear_model import LogisticRegression\n",
    "\n",
    "X = df_pca_sample.drop(['type', 'Share', 'Day', 'Trader', 'target'], axis=1)\n",
    "y = df_pca_sample['target']\n",
    "\n",
    "X_train, X_test, y_train, y_test = train_test_split(X, y, test_size=0.20)\n",
    "\n",
    "model = LogisticRegression(multi_class='multinomial', solver='lbfgs')"
   ]
  },
  {
   "cell_type": "code",
   "execution_count": 183,
   "id": "84e9d371",
   "metadata": {},
   "outputs": [
    {
     "name": "stderr",
     "output_type": "stream",
     "text": [
      "C:\\Users\\33698\\anaconda3\\lib\\site-packages\\sklearn\\linear_model\\_logistic.py:814: ConvergenceWarning: lbfgs failed to converge (status=1):\n",
      "STOP: TOTAL NO. of ITERATIONS REACHED LIMIT.\n",
      "\n",
      "Increase the number of iterations (max_iter) or scale the data as shown in:\n",
      "    https://scikit-learn.org/stable/modules/preprocessing.html\n",
      "Please also refer to the documentation for alternative solver options:\n",
      "    https://scikit-learn.org/stable/modules/linear_model.html#logistic-regression\n",
      "  n_iter_i = _check_optimize_result(\n"
     ]
    },
    {
     "data": {
      "text/plain": [
       "LogisticRegression(multi_class='multinomial')"
      ]
     },
     "execution_count": 183,
     "metadata": {},
     "output_type": "execute_result"
    }
   ],
   "source": [
    "model.fit(X_train, y_train)"
   ]
  },
  {
   "cell_type": "code",
   "execution_count": 185,
   "id": "61f1f85a",
   "metadata": {},
   "outputs": [],
   "source": [
    "predict = model.predict(X_test)\n",
    "params = model.get_params()"
   ]
  },
  {
   "cell_type": "code",
   "execution_count": 186,
   "id": "94195671",
   "metadata": {},
   "outputs": [
    {
     "data": {
      "text/html": [
       "<div>\n",
       "<style scoped>\n",
       "    .dataframe tbody tr th:only-of-type {\n",
       "        vertical-align: middle;\n",
       "    }\n",
       "\n",
       "    .dataframe tbody tr th {\n",
       "        vertical-align: top;\n",
       "    }\n",
       "\n",
       "    .dataframe thead th {\n",
       "        text-align: right;\n",
       "    }\n",
       "</style>\n",
       "<table border=\"1\" class=\"dataframe\">\n",
       "  <thead>\n",
       "    <tr style=\"text-align: right;\">\n",
       "      <th></th>\n",
       "      <th>predicted_NON_HFT</th>\n",
       "      <th>predicted_MIX</th>\n",
       "      <th>predicted_HFT</th>\n",
       "    </tr>\n",
       "  </thead>\n",
       "  <tbody>\n",
       "    <tr>\n",
       "      <th>NON HFT</th>\n",
       "      <td>70</td>\n",
       "      <td>87</td>\n",
       "      <td>114</td>\n",
       "    </tr>\n",
       "    <tr>\n",
       "      <th>MIX</th>\n",
       "      <td>77</td>\n",
       "      <td>81</td>\n",
       "      <td>172</td>\n",
       "    </tr>\n",
       "    <tr>\n",
       "      <th>HFT</th>\n",
       "      <td>88</td>\n",
       "      <td>106</td>\n",
       "      <td>216</td>\n",
       "    </tr>\n",
       "  </tbody>\n",
       "</table>\n",
       "</div>"
      ],
      "text/plain": [
       "         predicted_NON_HFT  predicted_MIX  predicted_HFT\n",
       "NON HFT                 70             87            114\n",
       "MIX                     77             81            172\n",
       "HFT                     88            106            216"
      ]
     },
     "execution_count": 186,
     "metadata": {},
     "output_type": "execute_result"
    }
   ],
   "source": [
    "cm = confusion_matrix(y_test_pca, predict)\n",
    "conf = pd.DataFrame(cm, index=['NON HFT','MIX', 'HFT'],\n",
    "columns=['predicted_NON_HFT', 'predicted_MIX', 'predicted_HFT'])\n",
    "conf"
   ]
  }
 ],
 "metadata": {
  "kernelspec": {
   "display_name": "Python 3 (ipykernel)",
   "language": "python",
   "name": "python3"
  },
  "language_info": {
   "codemirror_mode": {
    "name": "ipython",
    "version": 3
   },
   "file_extension": ".py",
   "mimetype": "text/x-python",
   "name": "python",
   "nbconvert_exporter": "python",
   "pygments_lexer": "ipython3",
   "version": "3.9.13"
  }
 },
 "nbformat": 4,
 "nbformat_minor": 5
}
